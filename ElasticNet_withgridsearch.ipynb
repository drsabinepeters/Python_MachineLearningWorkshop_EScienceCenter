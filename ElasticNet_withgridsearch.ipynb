{
 "cells": [
  {
   "cell_type": "markdown",
   "metadata": {},
   "source": [
    "# First I start with loading a datafile which is a subset of the complete data\n",
    "\n",
    "# I start with an elastic net regression"
   ]
  },
  {
   "cell_type": "code",
   "execution_count": 1,
   "metadata": {},
   "outputs": [],
   "source": [
    "import pandas as pd\n",
    "import sklearn \n",
    "import numpy as np"
   ]
  },
  {
   "cell_type": "code",
   "execution_count": 2,
   "metadata": {},
   "outputs": [],
   "source": [
    "data = pd.read_csv('SamenUniek_simpel_AvD.csv')"
   ]
  },
  {
   "cell_type": "code",
   "execution_count": 3,
   "metadata": {},
   "outputs": [
    {
     "data": {
      "text/html": [
       "<div>\n",
       "<style scoped>\n",
       "    .dataframe tbody tr th:only-of-type {\n",
       "        vertical-align: middle;\n",
       "    }\n",
       "\n",
       "    .dataframe tbody tr th {\n",
       "        vertical-align: top;\n",
       "    }\n",
       "\n",
       "    .dataframe thead th {\n",
       "        text-align: right;\n",
       "    }\n",
       "</style>\n",
       "<table border=\"1\" class=\"dataframe\">\n",
       "  <thead>\n",
       "    <tr style=\"text-align: right;\">\n",
       "      <th></th>\n",
       "      <th>ChildID</th>\n",
       "      <th>ChildID.1</th>\n",
       "      <th>FamilyID</th>\n",
       "      <th>GenderTwin</th>\n",
       "      <th>C3.3_SRS_TotalScore_18</th>\n",
       "      <th>EstimatedIQ</th>\n",
       "      <th>SocioEconomicStatus</th>\n",
       "      <th>C3.3_Stop_Total_CorrectGO</th>\n",
       "      <th>C3.3_Stop_Total_CorrectNOGO</th>\n",
       "      <th>C3.3_Stop_Total_Mean_corGO_RT</th>\n",
       "      <th>CortexVol</th>\n",
       "      <th>SubCortGrayVol</th>\n",
       "      <th>TotalGrayVol</th>\n",
       "      <th>AgeYears</th>\n",
       "      <th>visit</th>\n",
       "    </tr>\n",
       "  </thead>\n",
       "  <tbody>\n",
       "    <tr>\n",
       "      <td>0</td>\n",
       "      <td>601.0</td>\n",
       "      <td>601</td>\n",
       "      <td>6</td>\n",
       "      <td>boys</td>\n",
       "      <td>2.0</td>\n",
       "      <td>87.5</td>\n",
       "      <td>high SES</td>\n",
       "      <td>99.342105</td>\n",
       "      <td>58.333333</td>\n",
       "      <td>938.589404</td>\n",
       "      <td>496324.6342</td>\n",
       "      <td>56100</td>\n",
       "      <td>664132.6342</td>\n",
       "      <td>7.416667</td>\n",
       "      <td>1</td>\n",
       "    </tr>\n",
       "    <tr>\n",
       "      <td>1</td>\n",
       "      <td>701.0</td>\n",
       "      <td>701</td>\n",
       "      <td>7</td>\n",
       "      <td>boys</td>\n",
       "      <td>NaN</td>\n",
       "      <td>97.5</td>\n",
       "      <td>middle SES</td>\n",
       "      <td>99.342105</td>\n",
       "      <td>52.083333</td>\n",
       "      <td>802.609271</td>\n",
       "      <td>602906.4394</td>\n",
       "      <td>59727</td>\n",
       "      <td>791680.4394</td>\n",
       "      <td>7.416667</td>\n",
       "      <td>1</td>\n",
       "    </tr>\n",
       "    <tr>\n",
       "      <td>2</td>\n",
       "      <td>901.0</td>\n",
       "      <td>901</td>\n",
       "      <td>9</td>\n",
       "      <td>boys</td>\n",
       "      <td>2.0</td>\n",
       "      <td>97.5</td>\n",
       "      <td>middle SES</td>\n",
       "      <td>92.105263</td>\n",
       "      <td>50.000000</td>\n",
       "      <td>766.121429</td>\n",
       "      <td>601946.4372</td>\n",
       "      <td>64860</td>\n",
       "      <td>791047.4372</td>\n",
       "      <td>7.250000</td>\n",
       "      <td>1</td>\n",
       "    </tr>\n",
       "    <tr>\n",
       "      <td>3</td>\n",
       "      <td>902.0</td>\n",
       "      <td>902</td>\n",
       "      <td>9</td>\n",
       "      <td>boys</td>\n",
       "      <td>3.0</td>\n",
       "      <td>95.0</td>\n",
       "      <td>middle SES</td>\n",
       "      <td>96.710526</td>\n",
       "      <td>54.166667</td>\n",
       "      <td>699.931973</td>\n",
       "      <td>587914.1354</td>\n",
       "      <td>63776</td>\n",
       "      <td>775976.1354</td>\n",
       "      <td>7.250000</td>\n",
       "      <td>1</td>\n",
       "    </tr>\n",
       "    <tr>\n",
       "      <td>4</td>\n",
       "      <td>1301.0</td>\n",
       "      <td>1301</td>\n",
       "      <td>13</td>\n",
       "      <td>boys</td>\n",
       "      <td>2.0</td>\n",
       "      <td>82.5</td>\n",
       "      <td>middle SES</td>\n",
       "      <td>99.342105</td>\n",
       "      <td>52.083333</td>\n",
       "      <td>600.092715</td>\n",
       "      <td>444856.8913</td>\n",
       "      <td>52870</td>\n",
       "      <td>627151.8913</td>\n",
       "      <td>7.666667</td>\n",
       "      <td>1</td>\n",
       "    </tr>\n",
       "    <tr>\n",
       "      <td>...</td>\n",
       "      <td>...</td>\n",
       "      <td>...</td>\n",
       "      <td>...</td>\n",
       "      <td>...</td>\n",
       "      <td>...</td>\n",
       "      <td>...</td>\n",
       "      <td>...</td>\n",
       "      <td>...</td>\n",
       "      <td>...</td>\n",
       "      <td>...</td>\n",
       "      <td>...</td>\n",
       "      <td>...</td>\n",
       "      <td>...</td>\n",
       "      <td>...</td>\n",
       "      <td>...</td>\n",
       "    </tr>\n",
       "    <tr>\n",
       "      <td>584</td>\n",
       "      <td>NaN</td>\n",
       "      <td>115702</td>\n",
       "      <td>1157</td>\n",
       "      <td>girls</td>\n",
       "      <td>6.0</td>\n",
       "      <td>97.5</td>\n",
       "      <td>middle SES</td>\n",
       "      <td>83.552632</td>\n",
       "      <td>47.916667</td>\n",
       "      <td>797.590551</td>\n",
       "      <td>374663.9339</td>\n",
       "      <td>59549</td>\n",
       "      <td>546966.9339</td>\n",
       "      <td>9.250000</td>\n",
       "      <td>3</td>\n",
       "    </tr>\n",
       "    <tr>\n",
       "      <td>585</td>\n",
       "      <td>NaN</td>\n",
       "      <td>116401</td>\n",
       "      <td>1164</td>\n",
       "      <td>girls</td>\n",
       "      <td>11.0</td>\n",
       "      <td>82.5</td>\n",
       "      <td>high SES</td>\n",
       "      <td>94.078947</td>\n",
       "      <td>54.166667</td>\n",
       "      <td>817.790210</td>\n",
       "      <td>441606.3079</td>\n",
       "      <td>54367</td>\n",
       "      <td>617691.3079</td>\n",
       "      <td>9.083333</td>\n",
       "      <td>3</td>\n",
       "    </tr>\n",
       "    <tr>\n",
       "      <td>586</td>\n",
       "      <td>NaN</td>\n",
       "      <td>116402</td>\n",
       "      <td>1164</td>\n",
       "      <td>girls</td>\n",
       "      <td>8.0</td>\n",
       "      <td>100.0</td>\n",
       "      <td>high SES</td>\n",
       "      <td>99.342105</td>\n",
       "      <td>56.250000</td>\n",
       "      <td>878.403973</td>\n",
       "      <td>423582.3965</td>\n",
       "      <td>55870</td>\n",
       "      <td>607171.3965</td>\n",
       "      <td>9.083333</td>\n",
       "      <td>3</td>\n",
       "    </tr>\n",
       "    <tr>\n",
       "      <td>587</td>\n",
       "      <td>NaN</td>\n",
       "      <td>117401</td>\n",
       "      <td>1174</td>\n",
       "      <td>girls</td>\n",
       "      <td>6.0</td>\n",
       "      <td>NaN</td>\n",
       "      <td>middle SES</td>\n",
       "      <td>94.736842</td>\n",
       "      <td>52.083333</td>\n",
       "      <td>765.687500</td>\n",
       "      <td>480249.5412</td>\n",
       "      <td>52385</td>\n",
       "      <td>641543.5412</td>\n",
       "      <td>11.416667</td>\n",
       "      <td>3</td>\n",
       "    </tr>\n",
       "    <tr>\n",
       "      <td>588</td>\n",
       "      <td>NaN</td>\n",
       "      <td>117402</td>\n",
       "      <td>1174</td>\n",
       "      <td>girls</td>\n",
       "      <td>7.0</td>\n",
       "      <td>NaN</td>\n",
       "      <td>middle SES</td>\n",
       "      <td>98.684211</td>\n",
       "      <td>50.000000</td>\n",
       "      <td>582.486667</td>\n",
       "      <td>489857.8944</td>\n",
       "      <td>52420</td>\n",
       "      <td>651249.8944</td>\n",
       "      <td>11.416667</td>\n",
       "      <td>3</td>\n",
       "    </tr>\n",
       "  </tbody>\n",
       "</table>\n",
       "<p>589 rows × 15 columns</p>\n",
       "</div>"
      ],
      "text/plain": [
       "     ChildID  ChildID.1  FamilyID GenderTwin  C3.3_SRS_TotalScore_18  \\\n",
       "0      601.0        601         6       boys                     2.0   \n",
       "1      701.0        701         7       boys                     NaN   \n",
       "2      901.0        901         9       boys                     2.0   \n",
       "3      902.0        902         9       boys                     3.0   \n",
       "4     1301.0       1301        13       boys                     2.0   \n",
       "..       ...        ...       ...        ...                     ...   \n",
       "584      NaN     115702      1157      girls                     6.0   \n",
       "585      NaN     116401      1164      girls                    11.0   \n",
       "586      NaN     116402      1164      girls                     8.0   \n",
       "587      NaN     117401      1174      girls                     6.0   \n",
       "588      NaN     117402      1174      girls                     7.0   \n",
       "\n",
       "     EstimatedIQ SocioEconomicStatus  C3.3_Stop_Total_CorrectGO  \\\n",
       "0           87.5            high SES                  99.342105   \n",
       "1           97.5          middle SES                  99.342105   \n",
       "2           97.5          middle SES                  92.105263   \n",
       "3           95.0          middle SES                  96.710526   \n",
       "4           82.5          middle SES                  99.342105   \n",
       "..           ...                 ...                        ...   \n",
       "584         97.5          middle SES                  83.552632   \n",
       "585         82.5            high SES                  94.078947   \n",
       "586        100.0            high SES                  99.342105   \n",
       "587          NaN          middle SES                  94.736842   \n",
       "588          NaN          middle SES                  98.684211   \n",
       "\n",
       "     C3.3_Stop_Total_CorrectNOGO  C3.3_Stop_Total_Mean_corGO_RT    CortexVol  \\\n",
       "0                      58.333333                     938.589404  496324.6342   \n",
       "1                      52.083333                     802.609271  602906.4394   \n",
       "2                      50.000000                     766.121429  601946.4372   \n",
       "3                      54.166667                     699.931973  587914.1354   \n",
       "4                      52.083333                     600.092715  444856.8913   \n",
       "..                           ...                            ...          ...   \n",
       "584                    47.916667                     797.590551  374663.9339   \n",
       "585                    54.166667                     817.790210  441606.3079   \n",
       "586                    56.250000                     878.403973  423582.3965   \n",
       "587                    52.083333                     765.687500  480249.5412   \n",
       "588                    50.000000                     582.486667  489857.8944   \n",
       "\n",
       "     SubCortGrayVol  TotalGrayVol   AgeYears  visit  \n",
       "0             56100   664132.6342   7.416667      1  \n",
       "1             59727   791680.4394   7.416667      1  \n",
       "2             64860   791047.4372   7.250000      1  \n",
       "3             63776   775976.1354   7.250000      1  \n",
       "4             52870   627151.8913   7.666667      1  \n",
       "..              ...           ...        ...    ...  \n",
       "584           59549   546966.9339   9.250000      3  \n",
       "585           54367   617691.3079   9.083333      3  \n",
       "586           55870   607171.3965   9.083333      3  \n",
       "587           52385   641543.5412  11.416667      3  \n",
       "588           52420   651249.8944  11.416667      3  \n",
       "\n",
       "[589 rows x 15 columns]"
      ]
     },
     "execution_count": 3,
     "metadata": {},
     "output_type": "execute_result"
    }
   ],
   "source": [
    "data.describe()\n",
    "data"
   ]
  },
  {
   "cell_type": "code",
   "execution_count": 4,
   "metadata": {},
   "outputs": [
    {
     "name": "stdout",
     "output_type": "stream",
     "text": [
      "Populating the interactive namespace from numpy and matplotlib\n"
     ]
    }
   ],
   "source": [
    "%pylab inline"
   ]
  },
  {
   "cell_type": "code",
   "execution_count": 5,
   "metadata": {},
   "outputs": [
    {
     "data": {
      "text/plain": [
       "array([ 7.        ,  7.08333333,  7.16666667,  7.25      ,  7.33333333,\n",
       "        7.41666667,  7.5       ,  7.58333333,  7.66666667,  7.75      ,\n",
       "        7.83333333,  7.91666667,  8.        ,  8.08333333,  8.16666667,\n",
       "        8.25      ,  8.33333333,  8.41666667,  8.5       ,  8.58333333,\n",
       "        8.66666667,  8.75      ,  8.83333333,  8.91666667,  9.        ,\n",
       "        9.08333333,  9.16666667,  9.25      ,  9.33333333,  9.41666667,\n",
       "        9.5       ,  9.58333333,  9.66666667,  9.75      ,  9.83333333,\n",
       "        9.91666667, 10.        , 10.08333333, 10.16666667, 10.25      ,\n",
       "       10.33333333, 10.41666667, 10.5       , 10.58333333, 10.66666667,\n",
       "       10.75      , 10.83333333, 10.91666667, 11.        , 11.08333333,\n",
       "       11.16666667, 11.41666667, 11.66666667])"
      ]
     },
     "execution_count": 5,
     "metadata": {},
     "output_type": "execute_result"
    }
   ],
   "source": [
    "np.unique(data['AgeYears'])"
   ]
  },
  {
   "cell_type": "code",
   "execution_count": 6,
   "metadata": {},
   "outputs": [
    {
     "data": {
      "image/png": "[encoded data removed]",
      "text/plain": [
       "<Figure size 432x288 with 1 Axes>"
      ]
     },
     "metadata": {
      "needs_background": "light"
     },
     "output_type": "display_data"
    }
   ],
   "source": [
    "import matplotlib.pyplot as plt\n",
    "plt.hist(data['AgeYears'],bins=18)\n",
    "plt.show()"
   ]
  },
  {
   "cell_type": "code",
   "execution_count": 7,
   "metadata": {},
   "outputs": [
    {
     "data": {
      "text/html": [
       "<div>\n",
       "<style scoped>\n",
       "    .dataframe tbody tr th:only-of-type {\n",
       "        vertical-align: middle;\n",
       "    }\n",
       "\n",
       "    .dataframe tbody tr th {\n",
       "        vertical-align: top;\n",
       "    }\n",
       "\n",
       "    .dataframe thead th {\n",
       "        text-align: right;\n",
       "    }\n",
       "</style>\n",
       "<table border=\"1\" class=\"dataframe\">\n",
       "  <thead>\n",
       "    <tr style=\"text-align: right;\">\n",
       "      <th></th>\n",
       "      <th>ChildID</th>\n",
       "      <th>ChildID.1</th>\n",
       "      <th>FamilyID</th>\n",
       "      <th>GenderTwin</th>\n",
       "      <th>C3.3_SRS_TotalScore_18</th>\n",
       "      <th>EstimatedIQ</th>\n",
       "      <th>SocioEconomicStatus</th>\n",
       "      <th>C3.3_Stop_Total_CorrectGO</th>\n",
       "      <th>C3.3_Stop_Total_CorrectNOGO</th>\n",
       "      <th>C3.3_Stop_Total_Mean_corGO_RT</th>\n",
       "      <th>CortexVol</th>\n",
       "      <th>SubCortGrayVol</th>\n",
       "      <th>TotalGrayVol</th>\n",
       "      <th>AgeYears</th>\n",
       "      <th>visit</th>\n",
       "    </tr>\n",
       "  </thead>\n",
       "  <tbody>\n",
       "    <tr>\n",
       "      <td>0</td>\n",
       "      <td>601.0</td>\n",
       "      <td>601</td>\n",
       "      <td>6</td>\n",
       "      <td>boys</td>\n",
       "      <td>2.0</td>\n",
       "      <td>87.5</td>\n",
       "      <td>high SES</td>\n",
       "      <td>99.342105</td>\n",
       "      <td>58.333333</td>\n",
       "      <td>938.589404</td>\n",
       "      <td>496324.6342</td>\n",
       "      <td>56100</td>\n",
       "      <td>664132.6342</td>\n",
       "      <td>7.416667</td>\n",
       "      <td>1</td>\n",
       "    </tr>\n",
       "    <tr>\n",
       "      <td>1</td>\n",
       "      <td>701.0</td>\n",
       "      <td>701</td>\n",
       "      <td>7</td>\n",
       "      <td>boys</td>\n",
       "      <td>NaN</td>\n",
       "      <td>97.5</td>\n",
       "      <td>middle SES</td>\n",
       "      <td>99.342105</td>\n",
       "      <td>52.083333</td>\n",
       "      <td>802.609271</td>\n",
       "      <td>602906.4394</td>\n",
       "      <td>59727</td>\n",
       "      <td>791680.4394</td>\n",
       "      <td>7.416667</td>\n",
       "      <td>1</td>\n",
       "    </tr>\n",
       "    <tr>\n",
       "      <td>2</td>\n",
       "      <td>901.0</td>\n",
       "      <td>901</td>\n",
       "      <td>9</td>\n",
       "      <td>boys</td>\n",
       "      <td>2.0</td>\n",
       "      <td>97.5</td>\n",
       "      <td>middle SES</td>\n",
       "      <td>92.105263</td>\n",
       "      <td>50.000000</td>\n",
       "      <td>766.121429</td>\n",
       "      <td>601946.4372</td>\n",
       "      <td>64860</td>\n",
       "      <td>791047.4372</td>\n",
       "      <td>7.250000</td>\n",
       "      <td>1</td>\n",
       "    </tr>\n",
       "    <tr>\n",
       "      <td>3</td>\n",
       "      <td>902.0</td>\n",
       "      <td>902</td>\n",
       "      <td>9</td>\n",
       "      <td>boys</td>\n",
       "      <td>3.0</td>\n",
       "      <td>95.0</td>\n",
       "      <td>middle SES</td>\n",
       "      <td>96.710526</td>\n",
       "      <td>54.166667</td>\n",
       "      <td>699.931973</td>\n",
       "      <td>587914.1354</td>\n",
       "      <td>63776</td>\n",
       "      <td>775976.1354</td>\n",
       "      <td>7.250000</td>\n",
       "      <td>1</td>\n",
       "    </tr>\n",
       "    <tr>\n",
       "      <td>4</td>\n",
       "      <td>1301.0</td>\n",
       "      <td>1301</td>\n",
       "      <td>13</td>\n",
       "      <td>boys</td>\n",
       "      <td>2.0</td>\n",
       "      <td>82.5</td>\n",
       "      <td>middle SES</td>\n",
       "      <td>99.342105</td>\n",
       "      <td>52.083333</td>\n",
       "      <td>600.092715</td>\n",
       "      <td>444856.8913</td>\n",
       "      <td>52870</td>\n",
       "      <td>627151.8913</td>\n",
       "      <td>7.666667</td>\n",
       "      <td>1</td>\n",
       "    </tr>\n",
       "    <tr>\n",
       "      <td>...</td>\n",
       "      <td>...</td>\n",
       "      <td>...</td>\n",
       "      <td>...</td>\n",
       "      <td>...</td>\n",
       "      <td>...</td>\n",
       "      <td>...</td>\n",
       "      <td>...</td>\n",
       "      <td>...</td>\n",
       "      <td>...</td>\n",
       "      <td>...</td>\n",
       "      <td>...</td>\n",
       "      <td>...</td>\n",
       "      <td>...</td>\n",
       "      <td>...</td>\n",
       "      <td>...</td>\n",
       "    </tr>\n",
       "    <tr>\n",
       "      <td>584</td>\n",
       "      <td>NaN</td>\n",
       "      <td>115702</td>\n",
       "      <td>1157</td>\n",
       "      <td>girls</td>\n",
       "      <td>6.0</td>\n",
       "      <td>97.5</td>\n",
       "      <td>middle SES</td>\n",
       "      <td>83.552632</td>\n",
       "      <td>47.916667</td>\n",
       "      <td>797.590551</td>\n",
       "      <td>374663.9339</td>\n",
       "      <td>59549</td>\n",
       "      <td>546966.9339</td>\n",
       "      <td>9.250000</td>\n",
       "      <td>3</td>\n",
       "    </tr>\n",
       "    <tr>\n",
       "      <td>585</td>\n",
       "      <td>NaN</td>\n",
       "      <td>116401</td>\n",
       "      <td>1164</td>\n",
       "      <td>girls</td>\n",
       "      <td>11.0</td>\n",
       "      <td>82.5</td>\n",
       "      <td>high SES</td>\n",
       "      <td>94.078947</td>\n",
       "      <td>54.166667</td>\n",
       "      <td>817.790210</td>\n",
       "      <td>441606.3079</td>\n",
       "      <td>54367</td>\n",
       "      <td>617691.3079</td>\n",
       "      <td>9.083333</td>\n",
       "      <td>3</td>\n",
       "    </tr>\n",
       "    <tr>\n",
       "      <td>586</td>\n",
       "      <td>NaN</td>\n",
       "      <td>116402</td>\n",
       "      <td>1164</td>\n",
       "      <td>girls</td>\n",
       "      <td>8.0</td>\n",
       "      <td>100.0</td>\n",
       "      <td>high SES</td>\n",
       "      <td>99.342105</td>\n",
       "      <td>56.250000</td>\n",
       "      <td>878.403973</td>\n",
       "      <td>423582.3965</td>\n",
       "      <td>55870</td>\n",
       "      <td>607171.3965</td>\n",
       "      <td>9.083333</td>\n",
       "      <td>3</td>\n",
       "    </tr>\n",
       "    <tr>\n",
       "      <td>587</td>\n",
       "      <td>NaN</td>\n",
       "      <td>117401</td>\n",
       "      <td>1174</td>\n",
       "      <td>girls</td>\n",
       "      <td>6.0</td>\n",
       "      <td>NaN</td>\n",
       "      <td>middle SES</td>\n",
       "      <td>94.736842</td>\n",
       "      <td>52.083333</td>\n",
       "      <td>765.687500</td>\n",
       "      <td>480249.5412</td>\n",
       "      <td>52385</td>\n",
       "      <td>641543.5412</td>\n",
       "      <td>11.416667</td>\n",
       "      <td>3</td>\n",
       "    </tr>\n",
       "    <tr>\n",
       "      <td>588</td>\n",
       "      <td>NaN</td>\n",
       "      <td>117402</td>\n",
       "      <td>1174</td>\n",
       "      <td>girls</td>\n",
       "      <td>7.0</td>\n",
       "      <td>NaN</td>\n",
       "      <td>middle SES</td>\n",
       "      <td>98.684211</td>\n",
       "      <td>50.000000</td>\n",
       "      <td>582.486667</td>\n",
       "      <td>489857.8944</td>\n",
       "      <td>52420</td>\n",
       "      <td>651249.8944</td>\n",
       "      <td>11.416667</td>\n",
       "      <td>3</td>\n",
       "    </tr>\n",
       "  </tbody>\n",
       "</table>\n",
       "<p>589 rows × 15 columns</p>\n",
       "</div>"
      ],
      "text/plain": [
       "     ChildID  ChildID.1  FamilyID GenderTwin  C3.3_SRS_TotalScore_18  \\\n",
       "0      601.0        601         6       boys                     2.0   \n",
       "1      701.0        701         7       boys                     NaN   \n",
       "2      901.0        901         9       boys                     2.0   \n",
       "3      902.0        902         9       boys                     3.0   \n",
       "4     1301.0       1301        13       boys                     2.0   \n",
       "..       ...        ...       ...        ...                     ...   \n",
       "584      NaN     115702      1157      girls                     6.0   \n",
       "585      NaN     116401      1164      girls                    11.0   \n",
       "586      NaN     116402      1164      girls                     8.0   \n",
       "587      NaN     117401      1174      girls                     6.0   \n",
       "588      NaN     117402      1174      girls                     7.0   \n",
       "\n",
       "     EstimatedIQ SocioEconomicStatus  C3.3_Stop_Total_CorrectGO  \\\n",
       "0           87.5            high SES                  99.342105   \n",
       "1           97.5          middle SES                  99.342105   \n",
       "2           97.5          middle SES                  92.105263   \n",
       "3           95.0          middle SES                  96.710526   \n",
       "4           82.5          middle SES                  99.342105   \n",
       "..           ...                 ...                        ...   \n",
       "584         97.5          middle SES                  83.552632   \n",
       "585         82.5            high SES                  94.078947   \n",
       "586        100.0            high SES                  99.342105   \n",
       "587          NaN          middle SES                  94.736842   \n",
       "588          NaN          middle SES                  98.684211   \n",
       "\n",
       "     C3.3_Stop_Total_CorrectNOGO  C3.3_Stop_Total_Mean_corGO_RT    CortexVol  \\\n",
       "0                      58.333333                     938.589404  496324.6342   \n",
       "1                      52.083333                     802.609271  602906.4394   \n",
       "2                      50.000000                     766.121429  601946.4372   \n",
       "3                      54.166667                     699.931973  587914.1354   \n",
       "4                      52.083333                     600.092715  444856.8913   \n",
       "..                           ...                            ...          ...   \n",
       "584                    47.916667                     797.590551  374663.9339   \n",
       "585                    54.166667                     817.790210  441606.3079   \n",
       "586                    56.250000                     878.403973  423582.3965   \n",
       "587                    52.083333                     765.687500  480249.5412   \n",
       "588                    50.000000                     582.486667  489857.8944   \n",
       "\n",
       "     SubCortGrayVol  TotalGrayVol   AgeYears  visit  \n",
       "0             56100   664132.6342   7.416667      1  \n",
       "1             59727   791680.4394   7.416667      1  \n",
       "2             64860   791047.4372   7.250000      1  \n",
       "3             63776   775976.1354   7.250000      1  \n",
       "4             52870   627151.8913   7.666667      1  \n",
       "..              ...           ...        ...    ...  \n",
       "584           59549   546966.9339   9.250000      3  \n",
       "585           54367   617691.3079   9.083333      3  \n",
       "586           55870   607171.3965   9.083333      3  \n",
       "587           52385   641543.5412  11.416667      3  \n",
       "588           52420   651249.8944  11.416667      3  \n",
       "\n",
       "[589 rows x 15 columns]"
      ]
     },
     "execution_count": 7,
     "metadata": {},
     "output_type": "execute_result"
    }
   ],
   "source": [
    "data"
   ]
  },
  {
   "cell_type": "code",
   "execution_count": 8,
   "metadata": {},
   "outputs": [],
   "source": [
    "from sklearn.model_selection import train_test_split"
   ]
  },
  {
   "cell_type": "code",
   "execution_count": 9,
   "metadata": {},
   "outputs": [],
   "source": [
    "# To convert boys/girls to true/false\n",
    "data['GenderTwin']=data['GenderTwin'] == 'boys'\n",
    "X=data[['GenderTwin','CortexVol','SubCortGrayVol','TotalGrayVol']]\n",
    "len(X)\n",
    "y=data['AgeYears']"
   ]
  },
  {
   "cell_type": "code",
   "execution_count": 10,
   "metadata": {},
   "outputs": [
    {
     "data": {
      "text/plain": [
       "0       7.416667\n",
       "1       7.416667\n",
       "2       7.250000\n",
       "3       7.250000\n",
       "4       7.666667\n",
       "         ...    \n",
       "584     9.250000\n",
       "585     9.083333\n",
       "586     9.083333\n",
       "587    11.416667\n",
       "588    11.416667\n",
       "Name: AgeYears, Length: 589, dtype: float64"
      ]
     },
     "execution_count": 10,
     "metadata": {},
     "output_type": "execute_result"
    }
   ],
   "source": [
    "y"
   ]
  },
  {
   "cell_type": "code",
   "execution_count": 11,
   "metadata": {},
   "outputs": [
    {
     "data": {
      "text/plain": [
       "pandas.core.frame.DataFrame"
      ]
     },
     "execution_count": 11,
     "metadata": {},
     "output_type": "execute_result"
    }
   ],
   "source": [
    "type(y)\n",
    "type(X)"
   ]
  },
  {
   "cell_type": "code",
   "execution_count": 12,
   "metadata": {},
   "outputs": [
    {
     "data": {
      "text/html": [
       "<div>\n",
       "<style scoped>\n",
       "    .dataframe tbody tr th:only-of-type {\n",
       "        vertical-align: middle;\n",
       "    }\n",
       "\n",
       "    .dataframe tbody tr th {\n",
       "        vertical-align: top;\n",
       "    }\n",
       "\n",
       "    .dataframe thead th {\n",
       "        text-align: right;\n",
       "    }\n",
       "</style>\n",
       "<table border=\"1\" class=\"dataframe\">\n",
       "  <thead>\n",
       "    <tr style=\"text-align: right;\">\n",
       "      <th></th>\n",
       "      <th>GenderTwin</th>\n",
       "      <th>CortexVol</th>\n",
       "      <th>SubCortGrayVol</th>\n",
       "      <th>TotalGrayVol</th>\n",
       "    </tr>\n",
       "  </thead>\n",
       "  <tbody>\n",
       "    <tr>\n",
       "      <td>0</td>\n",
       "      <td>True</td>\n",
       "      <td>496324.6342</td>\n",
       "      <td>56100</td>\n",
       "      <td>664132.6342</td>\n",
       "    </tr>\n",
       "    <tr>\n",
       "      <td>1</td>\n",
       "      <td>True</td>\n",
       "      <td>602906.4394</td>\n",
       "      <td>59727</td>\n",
       "      <td>791680.4394</td>\n",
       "    </tr>\n",
       "    <tr>\n",
       "      <td>2</td>\n",
       "      <td>True</td>\n",
       "      <td>601946.4372</td>\n",
       "      <td>64860</td>\n",
       "      <td>791047.4372</td>\n",
       "    </tr>\n",
       "    <tr>\n",
       "      <td>3</td>\n",
       "      <td>True</td>\n",
       "      <td>587914.1354</td>\n",
       "      <td>63776</td>\n",
       "      <td>775976.1354</td>\n",
       "    </tr>\n",
       "    <tr>\n",
       "      <td>4</td>\n",
       "      <td>True</td>\n",
       "      <td>444856.8913</td>\n",
       "      <td>52870</td>\n",
       "      <td>627151.8913</td>\n",
       "    </tr>\n",
       "    <tr>\n",
       "      <td>...</td>\n",
       "      <td>...</td>\n",
       "      <td>...</td>\n",
       "      <td>...</td>\n",
       "      <td>...</td>\n",
       "    </tr>\n",
       "    <tr>\n",
       "      <td>584</td>\n",
       "      <td>False</td>\n",
       "      <td>374663.9339</td>\n",
       "      <td>59549</td>\n",
       "      <td>546966.9339</td>\n",
       "    </tr>\n",
       "    <tr>\n",
       "      <td>585</td>\n",
       "      <td>False</td>\n",
       "      <td>441606.3079</td>\n",
       "      <td>54367</td>\n",
       "      <td>617691.3079</td>\n",
       "    </tr>\n",
       "    <tr>\n",
       "      <td>586</td>\n",
       "      <td>False</td>\n",
       "      <td>423582.3965</td>\n",
       "      <td>55870</td>\n",
       "      <td>607171.3965</td>\n",
       "    </tr>\n",
       "    <tr>\n",
       "      <td>587</td>\n",
       "      <td>False</td>\n",
       "      <td>480249.5412</td>\n",
       "      <td>52385</td>\n",
       "      <td>641543.5412</td>\n",
       "    </tr>\n",
       "    <tr>\n",
       "      <td>588</td>\n",
       "      <td>False</td>\n",
       "      <td>489857.8944</td>\n",
       "      <td>52420</td>\n",
       "      <td>651249.8944</td>\n",
       "    </tr>\n",
       "  </tbody>\n",
       "</table>\n",
       "<p>589 rows × 4 columns</p>\n",
       "</div>"
      ],
      "text/plain": [
       "     GenderTwin    CortexVol  SubCortGrayVol  TotalGrayVol\n",
       "0          True  496324.6342           56100   664132.6342\n",
       "1          True  602906.4394           59727   791680.4394\n",
       "2          True  601946.4372           64860   791047.4372\n",
       "3          True  587914.1354           63776   775976.1354\n",
       "4          True  444856.8913           52870   627151.8913\n",
       "..          ...          ...             ...           ...\n",
       "584       False  374663.9339           59549   546966.9339\n",
       "585       False  441606.3079           54367   617691.3079\n",
       "586       False  423582.3965           55870   607171.3965\n",
       "587       False  480249.5412           52385   641543.5412\n",
       "588       False  489857.8944           52420   651249.8944\n",
       "\n",
       "[589 rows x 4 columns]"
      ]
     },
     "execution_count": 12,
     "metadata": {},
     "output_type": "execute_result"
    }
   ],
   "source": [
    "X"
   ]
  },
  {
   "cell_type": "code",
   "execution_count": 13,
   "metadata": {},
   "outputs": [],
   "source": [
    "X_train, X_test, y_train, y_test = train_test_split( X, y, test_size=0.33, random_state=42, stratify=X['GenderTwin'])"
   ]
  },
  {
   "cell_type": "code",
   "execution_count": 14,
   "metadata": {},
   "outputs": [
    {
     "data": {
      "text/html": [
       "<div>\n",
       "<style scoped>\n",
       "    .dataframe tbody tr th:only-of-type {\n",
       "        vertical-align: middle;\n",
       "    }\n",
       "\n",
       "    .dataframe tbody tr th {\n",
       "        vertical-align: top;\n",
       "    }\n",
       "\n",
       "    .dataframe thead th {\n",
       "        text-align: right;\n",
       "    }\n",
       "</style>\n",
       "<table border=\"1\" class=\"dataframe\">\n",
       "  <thead>\n",
       "    <tr style=\"text-align: right;\">\n",
       "      <th></th>\n",
       "      <th>GenderTwin</th>\n",
       "      <th>CortexVol</th>\n",
       "      <th>SubCortGrayVol</th>\n",
       "      <th>TotalGrayVol</th>\n",
       "    </tr>\n",
       "  </thead>\n",
       "  <tbody>\n",
       "    <tr>\n",
       "      <td>330</td>\n",
       "      <td>False</td>\n",
       "      <td>474982.8999</td>\n",
       "      <td>58453</td>\n",
       "      <td>678229.8999</td>\n",
       "    </tr>\n",
       "    <tr>\n",
       "      <td>28</td>\n",
       "      <td>True</td>\n",
       "      <td>592553.5027</td>\n",
       "      <td>61470</td>\n",
       "      <td>768633.5027</td>\n",
       "    </tr>\n",
       "    <tr>\n",
       "      <td>386</td>\n",
       "      <td>False</td>\n",
       "      <td>559645.6791</td>\n",
       "      <td>64498</td>\n",
       "      <td>742540.6791</td>\n",
       "    </tr>\n",
       "    <tr>\n",
       "      <td>385</td>\n",
       "      <td>False</td>\n",
       "      <td>344616.4173</td>\n",
       "      <td>47997</td>\n",
       "      <td>498101.4173</td>\n",
       "    </tr>\n",
       "    <tr>\n",
       "      <td>246</td>\n",
       "      <td>False</td>\n",
       "      <td>543091.6591</td>\n",
       "      <td>55796</td>\n",
       "      <td>704478.6591</td>\n",
       "    </tr>\n",
       "    <tr>\n",
       "      <td>...</td>\n",
       "      <td>...</td>\n",
       "      <td>...</td>\n",
       "      <td>...</td>\n",
       "      <td>...</td>\n",
       "    </tr>\n",
       "    <tr>\n",
       "      <td>79</td>\n",
       "      <td>True</td>\n",
       "      <td>680128.2898</td>\n",
       "      <td>66903</td>\n",
       "      <td>901132.2898</td>\n",
       "    </tr>\n",
       "    <tr>\n",
       "      <td>179</td>\n",
       "      <td>False</td>\n",
       "      <td>358411.1561</td>\n",
       "      <td>49272</td>\n",
       "      <td>532263.1561</td>\n",
       "    </tr>\n",
       "    <tr>\n",
       "      <td>240</td>\n",
       "      <td>False</td>\n",
       "      <td>418252.9536</td>\n",
       "      <td>33500</td>\n",
       "      <td>525225.9536</td>\n",
       "    </tr>\n",
       "    <tr>\n",
       "      <td>270</td>\n",
       "      <td>False</td>\n",
       "      <td>618319.5370</td>\n",
       "      <td>62525</td>\n",
       "      <td>807959.5370</td>\n",
       "    </tr>\n",
       "    <tr>\n",
       "      <td>487</td>\n",
       "      <td>False</td>\n",
       "      <td>501833.5351</td>\n",
       "      <td>54919</td>\n",
       "      <td>674124.5351</td>\n",
       "    </tr>\n",
       "  </tbody>\n",
       "</table>\n",
       "<p>394 rows × 4 columns</p>\n",
       "</div>"
      ],
      "text/plain": [
       "     GenderTwin    CortexVol  SubCortGrayVol  TotalGrayVol\n",
       "330       False  474982.8999           58453   678229.8999\n",
       "28         True  592553.5027           61470   768633.5027\n",
       "386       False  559645.6791           64498   742540.6791\n",
       "385       False  344616.4173           47997   498101.4173\n",
       "246       False  543091.6591           55796   704478.6591\n",
       "..          ...          ...             ...           ...\n",
       "79         True  680128.2898           66903   901132.2898\n",
       "179       False  358411.1561           49272   532263.1561\n",
       "240       False  418252.9536           33500   525225.9536\n",
       "270       False  618319.5370           62525   807959.5370\n",
       "487       False  501833.5351           54919   674124.5351\n",
       "\n",
       "[394 rows x 4 columns]"
      ]
     },
     "execution_count": 14,
     "metadata": {},
     "output_type": "execute_result"
    }
   ],
   "source": [
    "X_train\n"
   ]
  },
  {
   "cell_type": "code",
   "execution_count": 15,
   "metadata": {},
   "outputs": [
    {
     "data": {
      "text/html": [
       "<div>\n",
       "<style scoped>\n",
       "    .dataframe tbody tr th:only-of-type {\n",
       "        vertical-align: middle;\n",
       "    }\n",
       "\n",
       "    .dataframe tbody tr th {\n",
       "        vertical-align: top;\n",
       "    }\n",
       "\n",
       "    .dataframe thead th {\n",
       "        text-align: right;\n",
       "    }\n",
       "</style>\n",
       "<table border=\"1\" class=\"dataframe\">\n",
       "  <thead>\n",
       "    <tr style=\"text-align: right;\">\n",
       "      <th></th>\n",
       "      <th>GenderTwin</th>\n",
       "      <th>CortexVol</th>\n",
       "      <th>SubCortGrayVol</th>\n",
       "      <th>TotalGrayVol</th>\n",
       "    </tr>\n",
       "  </thead>\n",
       "  <tbody>\n",
       "    <tr>\n",
       "      <td>181</td>\n",
       "      <td>False</td>\n",
       "      <td>545053.6339</td>\n",
       "      <td>58626</td>\n",
       "      <td>723528.6339</td>\n",
       "    </tr>\n",
       "    <tr>\n",
       "      <td>59</td>\n",
       "      <td>True</td>\n",
       "      <td>583587.9685</td>\n",
       "      <td>59597</td>\n",
       "      <td>761549.9685</td>\n",
       "    </tr>\n",
       "    <tr>\n",
       "      <td>213</td>\n",
       "      <td>False</td>\n",
       "      <td>434857.1004</td>\n",
       "      <td>47870</td>\n",
       "      <td>582450.1004</td>\n",
       "    </tr>\n",
       "    <tr>\n",
       "      <td>65</td>\n",
       "      <td>True</td>\n",
       "      <td>612605.8476</td>\n",
       "      <td>59934</td>\n",
       "      <td>786811.8476</td>\n",
       "    </tr>\n",
       "    <tr>\n",
       "      <td>151</td>\n",
       "      <td>True</td>\n",
       "      <td>627529.9931</td>\n",
       "      <td>59299</td>\n",
       "      <td>803147.9931</td>\n",
       "    </tr>\n",
       "    <tr>\n",
       "      <td>...</td>\n",
       "      <td>...</td>\n",
       "      <td>...</td>\n",
       "      <td>...</td>\n",
       "      <td>...</td>\n",
       "    </tr>\n",
       "    <tr>\n",
       "      <td>227</td>\n",
       "      <td>False</td>\n",
       "      <td>573138.3144</td>\n",
       "      <td>65709</td>\n",
       "      <td>737975.3144</td>\n",
       "    </tr>\n",
       "    <tr>\n",
       "      <td>175</td>\n",
       "      <td>True</td>\n",
       "      <td>559407.2032</td>\n",
       "      <td>60824</td>\n",
       "      <td>733283.2032</td>\n",
       "    </tr>\n",
       "    <tr>\n",
       "      <td>154</td>\n",
       "      <td>True</td>\n",
       "      <td>618131.8148</td>\n",
       "      <td>65649</td>\n",
       "      <td>815375.8148</td>\n",
       "    </tr>\n",
       "    <tr>\n",
       "      <td>382</td>\n",
       "      <td>False</td>\n",
       "      <td>527086.0002</td>\n",
       "      <td>56896</td>\n",
       "      <td>682727.0002</td>\n",
       "    </tr>\n",
       "    <tr>\n",
       "      <td>190</td>\n",
       "      <td>False</td>\n",
       "      <td>591505.0955</td>\n",
       "      <td>66156</td>\n",
       "      <td>780926.0955</td>\n",
       "    </tr>\n",
       "  </tbody>\n",
       "</table>\n",
       "<p>195 rows × 4 columns</p>\n",
       "</div>"
      ],
      "text/plain": [
       "     GenderTwin    CortexVol  SubCortGrayVol  TotalGrayVol\n",
       "181       False  545053.6339           58626   723528.6339\n",
       "59         True  583587.9685           59597   761549.9685\n",
       "213       False  434857.1004           47870   582450.1004\n",
       "65         True  612605.8476           59934   786811.8476\n",
       "151        True  627529.9931           59299   803147.9931\n",
       "..          ...          ...             ...           ...\n",
       "227       False  573138.3144           65709   737975.3144\n",
       "175        True  559407.2032           60824   733283.2032\n",
       "154        True  618131.8148           65649   815375.8148\n",
       "382       False  527086.0002           56896   682727.0002\n",
       "190       False  591505.0955           66156   780926.0955\n",
       "\n",
       "[195 rows x 4 columns]"
      ]
     },
     "execution_count": 15,
     "metadata": {},
     "output_type": "execute_result"
    }
   ],
   "source": [
    "X_test"
   ]
  },
  {
   "cell_type": "code",
   "execution_count": 16,
   "metadata": {},
   "outputs": [
    {
     "data": {
      "text/plain": [
       "330     8.666667\n",
       "28      8.250000\n",
       "386     7.833333\n",
       "385     9.000000\n",
       "246     7.083333\n",
       "         ...    \n",
       "79      8.833333\n",
       "179     7.583333\n",
       "240     7.083333\n",
       "270     7.000000\n",
       "487    10.416667\n",
       "Name: AgeYears, Length: 394, dtype: float64"
      ]
     },
     "execution_count": 16,
     "metadata": {},
     "output_type": "execute_result"
    }
   ],
   "source": [
    "y_train\n"
   ]
  },
  {
   "cell_type": "code",
   "execution_count": 17,
   "metadata": {},
   "outputs": [
    {
     "data": {
      "text/plain": [
       "181    7.833333\n",
       "59     7.500000\n",
       "213    7.416667\n",
       "65     8.666667\n",
       "151    8.083333\n",
       "         ...   \n",
       "227    7.000000\n",
       "175    7.166667\n",
       "154    7.750000\n",
       "382    8.916667\n",
       "190    7.166667\n",
       "Name: AgeYears, Length: 195, dtype: float64"
      ]
     },
     "execution_count": 17,
     "metadata": {},
     "output_type": "execute_result"
    }
   ],
   "source": [
    "y_test"
   ]
  },
  {
   "cell_type": "code",
   "execution_count": 18,
   "metadata": {},
   "outputs": [],
   "source": [
    "from sklearn.model_selection import GridSearchCV\n",
    "from sklearn.linear_model import ElasticNet\n",
    "from sklearn.linear_model import LinearRegression\n",
    "from sklearn.metrics import mean_squared_error\n",
    "import pandas as pd  \n",
    "import numpy as np  \n",
    "import matplotlib.pyplot as plt  \n",
    "import seaborn as seabornInstance \n",
    "from sklearn.model_selection import train_test_split \n",
    "from sklearn import metrics"
   ]
  },
  {
   "cell_type": "code",
   "execution_count": 19,
   "metadata": {},
   "outputs": [
    {
     "data": {
      "text/html": [
       "<div>\n",
       "<style scoped>\n",
       "    .dataframe tbody tr th:only-of-type {\n",
       "        vertical-align: middle;\n",
       "    }\n",
       "\n",
       "    .dataframe tbody tr th {\n",
       "        vertical-align: top;\n",
       "    }\n",
       "\n",
       "    .dataframe thead th {\n",
       "        text-align: right;\n",
       "    }\n",
       "</style>\n",
       "<table border=\"1\" class=\"dataframe\">\n",
       "  <thead>\n",
       "    <tr style=\"text-align: right;\">\n",
       "      <th></th>\n",
       "      <th>GenderTwin</th>\n",
       "      <th>CortexVol</th>\n",
       "      <th>SubCortGrayVol</th>\n",
       "      <th>TotalGrayVol</th>\n",
       "    </tr>\n",
       "  </thead>\n",
       "  <tbody>\n",
       "    <tr>\n",
       "      <td>330</td>\n",
       "      <td>False</td>\n",
       "      <td>474982.8999</td>\n",
       "      <td>58453</td>\n",
       "      <td>678229.8999</td>\n",
       "    </tr>\n",
       "    <tr>\n",
       "      <td>28</td>\n",
       "      <td>True</td>\n",
       "      <td>592553.5027</td>\n",
       "      <td>61470</td>\n",
       "      <td>768633.5027</td>\n",
       "    </tr>\n",
       "    <tr>\n",
       "      <td>386</td>\n",
       "      <td>False</td>\n",
       "      <td>559645.6791</td>\n",
       "      <td>64498</td>\n",
       "      <td>742540.6791</td>\n",
       "    </tr>\n",
       "    <tr>\n",
       "      <td>385</td>\n",
       "      <td>False</td>\n",
       "      <td>344616.4173</td>\n",
       "      <td>47997</td>\n",
       "      <td>498101.4173</td>\n",
       "    </tr>\n",
       "    <tr>\n",
       "      <td>246</td>\n",
       "      <td>False</td>\n",
       "      <td>543091.6591</td>\n",
       "      <td>55796</td>\n",
       "      <td>704478.6591</td>\n",
       "    </tr>\n",
       "    <tr>\n",
       "      <td>...</td>\n",
       "      <td>...</td>\n",
       "      <td>...</td>\n",
       "      <td>...</td>\n",
       "      <td>...</td>\n",
       "    </tr>\n",
       "    <tr>\n",
       "      <td>79</td>\n",
       "      <td>True</td>\n",
       "      <td>680128.2898</td>\n",
       "      <td>66903</td>\n",
       "      <td>901132.2898</td>\n",
       "    </tr>\n",
       "    <tr>\n",
       "      <td>179</td>\n",
       "      <td>False</td>\n",
       "      <td>358411.1561</td>\n",
       "      <td>49272</td>\n",
       "      <td>532263.1561</td>\n",
       "    </tr>\n",
       "    <tr>\n",
       "      <td>240</td>\n",
       "      <td>False</td>\n",
       "      <td>418252.9536</td>\n",
       "      <td>33500</td>\n",
       "      <td>525225.9536</td>\n",
       "    </tr>\n",
       "    <tr>\n",
       "      <td>270</td>\n",
       "      <td>False</td>\n",
       "      <td>618319.5370</td>\n",
       "      <td>62525</td>\n",
       "      <td>807959.5370</td>\n",
       "    </tr>\n",
       "    <tr>\n",
       "      <td>487</td>\n",
       "      <td>False</td>\n",
       "      <td>501833.5351</td>\n",
       "      <td>54919</td>\n",
       "      <td>674124.5351</td>\n",
       "    </tr>\n",
       "  </tbody>\n",
       "</table>\n",
       "<p>394 rows × 4 columns</p>\n",
       "</div>"
      ],
      "text/plain": [
       "     GenderTwin    CortexVol  SubCortGrayVol  TotalGrayVol\n",
       "330       False  474982.8999           58453   678229.8999\n",
       "28         True  592553.5027           61470   768633.5027\n",
       "386       False  559645.6791           64498   742540.6791\n",
       "385       False  344616.4173           47997   498101.4173\n",
       "246       False  543091.6591           55796   704478.6591\n",
       "..          ...          ...             ...           ...\n",
       "79         True  680128.2898           66903   901132.2898\n",
       "179       False  358411.1561           49272   532263.1561\n",
       "240       False  418252.9536           33500   525225.9536\n",
       "270       False  618319.5370           62525   807959.5370\n",
       "487       False  501833.5351           54919   674124.5351\n",
       "\n",
       "[394 rows x 4 columns]"
      ]
     },
     "execution_count": 19,
     "metadata": {},
     "output_type": "execute_result"
    }
   ],
   "source": [
    "X_train"
   ]
  },
  {
   "cell_type": "code",
   "execution_count": 20,
   "metadata": {},
   "outputs": [
    {
     "data": {
      "text/plain": [
       "330     8.666667\n",
       "28      8.250000\n",
       "386     7.833333\n",
       "385     9.000000\n",
       "246     7.083333\n",
       "         ...    \n",
       "79      8.833333\n",
       "179     7.583333\n",
       "240     7.083333\n",
       "270     7.000000\n",
       "487    10.416667\n",
       "Name: AgeYears, Length: 394, dtype: float64"
      ]
     },
     "execution_count": 20,
     "metadata": {},
     "output_type": "execute_result"
    }
   ],
   "source": [
    "y_train"
   ]
  },
  {
   "cell_type": "code",
   "execution_count": 21,
   "metadata": {},
   "outputs": [
    {
     "data": {
      "text/plain": [
       "LinearRegression(copy_X=True, fit_intercept=True, n_jobs=None, normalize=False)"
      ]
     },
     "execution_count": 21,
     "metadata": {},
     "output_type": "execute_result"
    }
   ],
   "source": [
    "regressor = LinearRegression()  \n",
    "regressor.fit(X_train, y_train)"
   ]
  },
  {
   "cell_type": "code",
   "execution_count": 22,
   "metadata": {},
   "outputs": [
    {
     "name": "stdout",
     "output_type": "stream",
     "text": [
      "                Coefficient\n",
      "GenderTwin         0.010011\n",
      "CortexVol         -0.000008\n",
      "SubCortGrayVol     0.000030\n",
      "TotalGrayVol       0.000004\n"
     ]
    }
   ],
   "source": [
    "coeff_df = pd.DataFrame(regressor.coef_, X_train.columns, columns=['Coefficient'])  \n",
    "print(coeff_df)"
   ]
  },
  {
   "cell_type": "code",
   "execution_count": 23,
   "metadata": {},
   "outputs": [],
   "source": [
    "y_pred = regressor.predict(X_test)"
   ]
  },
  {
   "cell_type": "code",
   "execution_count": 24,
   "metadata": {},
   "outputs": [],
   "source": [
    "df = pd.DataFrame({'Actual': y_test, 'Predicted': y_pred})"
   ]
  },
  {
   "cell_type": "code",
   "execution_count": 25,
   "metadata": {},
   "outputs": [],
   "source": [
    "#df.plot(kind='bar',figsize=(50,50))\n",
    "#plt.grid(which='major', linestyle='-', linewidth='0.5', color='green')\n",
    "#plt.grid(which='minor', linestyle=':', linewidth='0.5', color='black')\n",
    "#plt.show()"
   ]
  },
  {
   "cell_type": "code",
   "execution_count": 26,
   "metadata": {},
   "outputs": [
    {
     "data": {
      "text/plain": [
       "1.3354639694451313"
      ]
     },
     "execution_count": 26,
     "metadata": {},
     "output_type": "execute_result"
    }
   ],
   "source": [
    "#print('Mean Absolute Error:', metrics.mean_absolute_error(y_test, y_pred)  \n",
    "#print('Mean Squared Error:', metrics.mean_squared_error(y_test, y_pred))  \n",
    "#print('Root Mean Squared Error:', np.sqrt(metrics.mean_squared_error(y_test, y_pred)))\n",
    "mean_squared_error(y_test, y_pred)"
   ]
  },
  {
   "cell_type": "code",
   "execution_count": 27,
   "metadata": {},
   "outputs": [],
   "source": [
    "from sklearn.model_selection import GridSearchCV\n",
    "from sklearn.linear_model import ElasticNet\n",
    "from sklearn.linear_model import LinearRegression\n",
    "from sklearn.metrics import mean_squared_error\n",
    "\n",
    "elastic=ElasticNet(normalize=True, max_iter=10000)\n",
    "search=GridSearchCV(estimator=elastic,param_grid={'alpha':np.logspace(-5,2,8),'l1_ratio':[.2,.4,.6,.8]},scoring='neg_mean_squared_error',n_jobs=1,refit=True,cv=10)"
   ]
  },
  {
   "cell_type": "code",
   "execution_count": 28,
   "metadata": {},
   "outputs": [
    {
     "name": "stderr",
     "output_type": "stream",
     "text": [
      "C:\\ProgramData\\Anaconda3\\lib\\site-packages\\sklearn\\model_selection\\_search.py:814: DeprecationWarning: The default of the `iid` parameter will change from True to False in version 0.22 and will be removed in 0.24. This will change numeric results when test-set sizes are unequal.\n",
      "  DeprecationWarning)\n"
     ]
    },
    {
     "data": {
      "text/plain": [
       "{'alpha': 0.0001, 'l1_ratio': 0.8}"
      ]
     },
     "execution_count": 28,
     "metadata": {},
     "output_type": "execute_result"
    }
   ],
   "source": [
    "search.fit(X_train, y_train)\n",
    "search.best_params_"
   ]
  },
  {
   "cell_type": "code",
   "execution_count": 29,
   "metadata": {},
   "outputs": [
    {
     "data": {
      "text/plain": [
       "array([1.e-05, 1.e-04, 1.e-03, 1.e-02, 1.e-01, 1.e+00, 1.e+01, 1.e+02])"
      ]
     },
     "execution_count": 29,
     "metadata": {},
     "output_type": "execute_result"
    }
   ],
   "source": [
    "np.logspace(-5,2,8)"
   ]
  },
  {
   "cell_type": "code",
   "execution_count": 30,
   "metadata": {},
   "outputs": [
    {
     "data": {
      "text/plain": [
       "1.296324160566711"
      ]
     },
     "execution_count": 30,
     "metadata": {},
     "output_type": "execute_result"
    }
   ],
   "source": [
    "abs(search.best_score_)"
   ]
  },
  {
   "cell_type": "code",
   "execution_count": 31,
   "metadata": {},
   "outputs": [
    {
     "data": {
      "text/plain": [
       "ElasticNet(alpha=0.1, copy_X=True, fit_intercept=True, l1_ratio=0.6,\n",
       "           max_iter=1000, normalize=True, positive=False, precompute=False,\n",
       "           random_state=None, selection='cyclic', tol=0.0001, warm_start=False)"
      ]
     },
     "execution_count": 31,
     "metadata": {},
     "output_type": "execute_result"
    }
   ],
   "source": [
    "elastic=ElasticNet(normalize=True,alpha=0.1,l1_ratio=0.6)\n",
    "elastic.fit(X_train,y_train)"
   ]
  },
  {
   "cell_type": "code",
   "execution_count": 32,
   "metadata": {},
   "outputs": [
    {
     "name": "stdout",
     "output_type": "stream",
     "text": [
      "                Coefficient\n",
      "GenderTwin             -0.0\n",
      "CortexVol              -0.0\n",
      "SubCortGrayVol         -0.0\n",
      "TotalGrayVol           -0.0\n"
     ]
    }
   ],
   "source": [
    "coeff_df = pd.DataFrame(elastic.coef_, X_train.columns, columns=['Coefficient'])  \n",
    "print(coeff_df)"
   ]
  },
  {
   "cell_type": "code",
   "execution_count": 33,
   "metadata": {},
   "outputs": [],
   "source": [
    "#evalueer model op je training set, zie dat alleen intercept er is\n",
    "y_pred = elastic.predict(X_train) "
   ]
  },
  {
   "cell_type": "code",
   "execution_count": 34,
   "metadata": {},
   "outputs": [
    {
     "data": {
      "text/html": [
       "<div>\n",
       "<style scoped>\n",
       "    .dataframe tbody tr th:only-of-type {\n",
       "        vertical-align: middle;\n",
       "    }\n",
       "\n",
       "    .dataframe tbody tr th {\n",
       "        vertical-align: top;\n",
       "    }\n",
       "\n",
       "    .dataframe thead th {\n",
       "        text-align: right;\n",
       "    }\n",
       "</style>\n",
       "<table border=\"1\" class=\"dataframe\">\n",
       "  <thead>\n",
       "    <tr style=\"text-align: right;\">\n",
       "      <th></th>\n",
       "      <th>ChildID</th>\n",
       "      <th>ChildID.1</th>\n",
       "      <th>FamilyID</th>\n",
       "      <th>GenderTwin</th>\n",
       "      <th>C3.3_SRS_TotalScore_18</th>\n",
       "      <th>EstimatedIQ</th>\n",
       "      <th>SocioEconomicStatus</th>\n",
       "      <th>C3.3_Stop_Total_CorrectGO</th>\n",
       "      <th>C3.3_Stop_Total_CorrectNOGO</th>\n",
       "      <th>C3.3_Stop_Total_Mean_corGO_RT</th>\n",
       "      <th>CortexVol</th>\n",
       "      <th>SubCortGrayVol</th>\n",
       "      <th>TotalGrayVol</th>\n",
       "      <th>AgeYears</th>\n",
       "      <th>visit</th>\n",
       "    </tr>\n",
       "  </thead>\n",
       "  <tbody>\n",
       "    <tr>\n",
       "      <td>0</td>\n",
       "      <td>601.0</td>\n",
       "      <td>601</td>\n",
       "      <td>6</td>\n",
       "      <td>True</td>\n",
       "      <td>2.0</td>\n",
       "      <td>87.5</td>\n",
       "      <td>high SES</td>\n",
       "      <td>99.342105</td>\n",
       "      <td>58.333333</td>\n",
       "      <td>938.589404</td>\n",
       "      <td>496324.6342</td>\n",
       "      <td>56100</td>\n",
       "      <td>664132.6342</td>\n",
       "      <td>7.416667</td>\n",
       "      <td>1</td>\n",
       "    </tr>\n",
       "    <tr>\n",
       "      <td>1</td>\n",
       "      <td>701.0</td>\n",
       "      <td>701</td>\n",
       "      <td>7</td>\n",
       "      <td>True</td>\n",
       "      <td>NaN</td>\n",
       "      <td>97.5</td>\n",
       "      <td>middle SES</td>\n",
       "      <td>99.342105</td>\n",
       "      <td>52.083333</td>\n",
       "      <td>802.609271</td>\n",
       "      <td>602906.4394</td>\n",
       "      <td>59727</td>\n",
       "      <td>791680.4394</td>\n",
       "      <td>7.416667</td>\n",
       "      <td>1</td>\n",
       "    </tr>\n",
       "    <tr>\n",
       "      <td>2</td>\n",
       "      <td>901.0</td>\n",
       "      <td>901</td>\n",
       "      <td>9</td>\n",
       "      <td>True</td>\n",
       "      <td>2.0</td>\n",
       "      <td>97.5</td>\n",
       "      <td>middle SES</td>\n",
       "      <td>92.105263</td>\n",
       "      <td>50.000000</td>\n",
       "      <td>766.121429</td>\n",
       "      <td>601946.4372</td>\n",
       "      <td>64860</td>\n",
       "      <td>791047.4372</td>\n",
       "      <td>7.250000</td>\n",
       "      <td>1</td>\n",
       "    </tr>\n",
       "    <tr>\n",
       "      <td>3</td>\n",
       "      <td>902.0</td>\n",
       "      <td>902</td>\n",
       "      <td>9</td>\n",
       "      <td>True</td>\n",
       "      <td>3.0</td>\n",
       "      <td>95.0</td>\n",
       "      <td>middle SES</td>\n",
       "      <td>96.710526</td>\n",
       "      <td>54.166667</td>\n",
       "      <td>699.931973</td>\n",
       "      <td>587914.1354</td>\n",
       "      <td>63776</td>\n",
       "      <td>775976.1354</td>\n",
       "      <td>7.250000</td>\n",
       "      <td>1</td>\n",
       "    </tr>\n",
       "    <tr>\n",
       "      <td>4</td>\n",
       "      <td>1301.0</td>\n",
       "      <td>1301</td>\n",
       "      <td>13</td>\n",
       "      <td>True</td>\n",
       "      <td>2.0</td>\n",
       "      <td>82.5</td>\n",
       "      <td>middle SES</td>\n",
       "      <td>99.342105</td>\n",
       "      <td>52.083333</td>\n",
       "      <td>600.092715</td>\n",
       "      <td>444856.8913</td>\n",
       "      <td>52870</td>\n",
       "      <td>627151.8913</td>\n",
       "      <td>7.666667</td>\n",
       "      <td>1</td>\n",
       "    </tr>\n",
       "    <tr>\n",
       "      <td>...</td>\n",
       "      <td>...</td>\n",
       "      <td>...</td>\n",
       "      <td>...</td>\n",
       "      <td>...</td>\n",
       "      <td>...</td>\n",
       "      <td>...</td>\n",
       "      <td>...</td>\n",
       "      <td>...</td>\n",
       "      <td>...</td>\n",
       "      <td>...</td>\n",
       "      <td>...</td>\n",
       "      <td>...</td>\n",
       "      <td>...</td>\n",
       "      <td>...</td>\n",
       "      <td>...</td>\n",
       "    </tr>\n",
       "    <tr>\n",
       "      <td>584</td>\n",
       "      <td>NaN</td>\n",
       "      <td>115702</td>\n",
       "      <td>1157</td>\n",
       "      <td>False</td>\n",
       "      <td>6.0</td>\n",
       "      <td>97.5</td>\n",
       "      <td>middle SES</td>\n",
       "      <td>83.552632</td>\n",
       "      <td>47.916667</td>\n",
       "      <td>797.590551</td>\n",
       "      <td>374663.9339</td>\n",
       "      <td>59549</td>\n",
       "      <td>546966.9339</td>\n",
       "      <td>9.250000</td>\n",
       "      <td>3</td>\n",
       "    </tr>\n",
       "    <tr>\n",
       "      <td>585</td>\n",
       "      <td>NaN</td>\n",
       "      <td>116401</td>\n",
       "      <td>1164</td>\n",
       "      <td>False</td>\n",
       "      <td>11.0</td>\n",
       "      <td>82.5</td>\n",
       "      <td>high SES</td>\n",
       "      <td>94.078947</td>\n",
       "      <td>54.166667</td>\n",
       "      <td>817.790210</td>\n",
       "      <td>441606.3079</td>\n",
       "      <td>54367</td>\n",
       "      <td>617691.3079</td>\n",
       "      <td>9.083333</td>\n",
       "      <td>3</td>\n",
       "    </tr>\n",
       "    <tr>\n",
       "      <td>586</td>\n",
       "      <td>NaN</td>\n",
       "      <td>116402</td>\n",
       "      <td>1164</td>\n",
       "      <td>False</td>\n",
       "      <td>8.0</td>\n",
       "      <td>100.0</td>\n",
       "      <td>high SES</td>\n",
       "      <td>99.342105</td>\n",
       "      <td>56.250000</td>\n",
       "      <td>878.403973</td>\n",
       "      <td>423582.3965</td>\n",
       "      <td>55870</td>\n",
       "      <td>607171.3965</td>\n",
       "      <td>9.083333</td>\n",
       "      <td>3</td>\n",
       "    </tr>\n",
       "    <tr>\n",
       "      <td>587</td>\n",
       "      <td>NaN</td>\n",
       "      <td>117401</td>\n",
       "      <td>1174</td>\n",
       "      <td>False</td>\n",
       "      <td>6.0</td>\n",
       "      <td>NaN</td>\n",
       "      <td>middle SES</td>\n",
       "      <td>94.736842</td>\n",
       "      <td>52.083333</td>\n",
       "      <td>765.687500</td>\n",
       "      <td>480249.5412</td>\n",
       "      <td>52385</td>\n",
       "      <td>641543.5412</td>\n",
       "      <td>11.416667</td>\n",
       "      <td>3</td>\n",
       "    </tr>\n",
       "    <tr>\n",
       "      <td>588</td>\n",
       "      <td>NaN</td>\n",
       "      <td>117402</td>\n",
       "      <td>1174</td>\n",
       "      <td>False</td>\n",
       "      <td>7.0</td>\n",
       "      <td>NaN</td>\n",
       "      <td>middle SES</td>\n",
       "      <td>98.684211</td>\n",
       "      <td>50.000000</td>\n",
       "      <td>582.486667</td>\n",
       "      <td>489857.8944</td>\n",
       "      <td>52420</td>\n",
       "      <td>651249.8944</td>\n",
       "      <td>11.416667</td>\n",
       "      <td>3</td>\n",
       "    </tr>\n",
       "  </tbody>\n",
       "</table>\n",
       "<p>589 rows × 15 columns</p>\n",
       "</div>"
      ],
      "text/plain": [
       "     ChildID  ChildID.1  FamilyID  GenderTwin  C3.3_SRS_TotalScore_18  \\\n",
       "0      601.0        601         6        True                     2.0   \n",
       "1      701.0        701         7        True                     NaN   \n",
       "2      901.0        901         9        True                     2.0   \n",
       "3      902.0        902         9        True                     3.0   \n",
       "4     1301.0       1301        13        True                     2.0   \n",
       "..       ...        ...       ...         ...                     ...   \n",
       "584      NaN     115702      1157       False                     6.0   \n",
       "585      NaN     116401      1164       False                    11.0   \n",
       "586      NaN     116402      1164       False                     8.0   \n",
       "587      NaN     117401      1174       False                     6.0   \n",
       "588      NaN     117402      1174       False                     7.0   \n",
       "\n",
       "     EstimatedIQ SocioEconomicStatus  C3.3_Stop_Total_CorrectGO  \\\n",
       "0           87.5            high SES                  99.342105   \n",
       "1           97.5          middle SES                  99.342105   \n",
       "2           97.5          middle SES                  92.105263   \n",
       "3           95.0          middle SES                  96.710526   \n",
       "4           82.5          middle SES                  99.342105   \n",
       "..           ...                 ...                        ...   \n",
       "584         97.5          middle SES                  83.552632   \n",
       "585         82.5            high SES                  94.078947   \n",
       "586        100.0            high SES                  99.342105   \n",
       "587          NaN          middle SES                  94.736842   \n",
       "588          NaN          middle SES                  98.684211   \n",
       "\n",
       "     C3.3_Stop_Total_CorrectNOGO  C3.3_Stop_Total_Mean_corGO_RT    CortexVol  \\\n",
       "0                      58.333333                     938.589404  496324.6342   \n",
       "1                      52.083333                     802.609271  602906.4394   \n",
       "2                      50.000000                     766.121429  601946.4372   \n",
       "3                      54.166667                     699.931973  587914.1354   \n",
       "4                      52.083333                     600.092715  444856.8913   \n",
       "..                           ...                            ...          ...   \n",
       "584                    47.916667                     797.590551  374663.9339   \n",
       "585                    54.166667                     817.790210  441606.3079   \n",
       "586                    56.250000                     878.403973  423582.3965   \n",
       "587                    52.083333                     765.687500  480249.5412   \n",
       "588                    50.000000                     582.486667  489857.8944   \n",
       "\n",
       "     SubCortGrayVol  TotalGrayVol   AgeYears  visit  \n",
       "0             56100   664132.6342   7.416667      1  \n",
       "1             59727   791680.4394   7.416667      1  \n",
       "2             64860   791047.4372   7.250000      1  \n",
       "3             63776   775976.1354   7.250000      1  \n",
       "4             52870   627151.8913   7.666667      1  \n",
       "..              ...           ...        ...    ...  \n",
       "584           59549   546966.9339   9.250000      3  \n",
       "585           54367   617691.3079   9.083333      3  \n",
       "586           55870   607171.3965   9.083333      3  \n",
       "587           52385   641543.5412  11.416667      3  \n",
       "588           52420   651249.8944  11.416667      3  \n",
       "\n",
       "[589 rows x 15 columns]"
      ]
     },
     "execution_count": 34,
     "metadata": {},
     "output_type": "execute_result"
    }
   ],
   "source": [
    "data"
   ]
  },
  {
   "cell_type": "markdown",
   "metadata": {},
   "source": [
    "# From here I started with a random forest regression"
   ]
  },
  {
   "cell_type": "code",
   "execution_count": 35,
   "metadata": {},
   "outputs": [],
   "source": [
    "# Use numpy to convert to arrays\n",
    "import numpy as np\n",
    "# Labels are the values we want to predict\n",
    "labels = np.array(data['AgeYears'])\n",
    "\n",
    "# Remove the labels from the features\n",
    "# axis 1 refers to the columns\n",
    "#data2= data.drop('AgeYears', axis = 1)\n",
    "\n",
    "##Ik heb labels als labels en X als dataframe, ik rename X naar features\n",
    "\n"
   ]
  },
  {
   "cell_type": "code",
   "execution_count": 36,
   "metadata": {},
   "outputs": [
    {
     "data": {
      "text/html": [
       "<div>\n",
       "<style scoped>\n",
       "    .dataframe tbody tr th:only-of-type {\n",
       "        vertical-align: middle;\n",
       "    }\n",
       "\n",
       "    .dataframe tbody tr th {\n",
       "        vertical-align: top;\n",
       "    }\n",
       "\n",
       "    .dataframe thead th {\n",
       "        text-align: right;\n",
       "    }\n",
       "</style>\n",
       "<table border=\"1\" class=\"dataframe\">\n",
       "  <thead>\n",
       "    <tr style=\"text-align: right;\">\n",
       "      <th></th>\n",
       "      <th>GenderTwin</th>\n",
       "      <th>CortexVol</th>\n",
       "      <th>SubCortGrayVol</th>\n",
       "      <th>TotalGrayVol</th>\n",
       "    </tr>\n",
       "  </thead>\n",
       "  <tbody>\n",
       "    <tr>\n",
       "      <td>0</td>\n",
       "      <td>True</td>\n",
       "      <td>496324.6342</td>\n",
       "      <td>56100</td>\n",
       "      <td>664132.6342</td>\n",
       "    </tr>\n",
       "    <tr>\n",
       "      <td>1</td>\n",
       "      <td>True</td>\n",
       "      <td>602906.4394</td>\n",
       "      <td>59727</td>\n",
       "      <td>791680.4394</td>\n",
       "    </tr>\n",
       "    <tr>\n",
       "      <td>2</td>\n",
       "      <td>True</td>\n",
       "      <td>601946.4372</td>\n",
       "      <td>64860</td>\n",
       "      <td>791047.4372</td>\n",
       "    </tr>\n",
       "    <tr>\n",
       "      <td>3</td>\n",
       "      <td>True</td>\n",
       "      <td>587914.1354</td>\n",
       "      <td>63776</td>\n",
       "      <td>775976.1354</td>\n",
       "    </tr>\n",
       "    <tr>\n",
       "      <td>4</td>\n",
       "      <td>True</td>\n",
       "      <td>444856.8913</td>\n",
       "      <td>52870</td>\n",
       "      <td>627151.8913</td>\n",
       "    </tr>\n",
       "    <tr>\n",
       "      <td>...</td>\n",
       "      <td>...</td>\n",
       "      <td>...</td>\n",
       "      <td>...</td>\n",
       "      <td>...</td>\n",
       "    </tr>\n",
       "    <tr>\n",
       "      <td>584</td>\n",
       "      <td>False</td>\n",
       "      <td>374663.9339</td>\n",
       "      <td>59549</td>\n",
       "      <td>546966.9339</td>\n",
       "    </tr>\n",
       "    <tr>\n",
       "      <td>585</td>\n",
       "      <td>False</td>\n",
       "      <td>441606.3079</td>\n",
       "      <td>54367</td>\n",
       "      <td>617691.3079</td>\n",
       "    </tr>\n",
       "    <tr>\n",
       "      <td>586</td>\n",
       "      <td>False</td>\n",
       "      <td>423582.3965</td>\n",
       "      <td>55870</td>\n",
       "      <td>607171.3965</td>\n",
       "    </tr>\n",
       "    <tr>\n",
       "      <td>587</td>\n",
       "      <td>False</td>\n",
       "      <td>480249.5412</td>\n",
       "      <td>52385</td>\n",
       "      <td>641543.5412</td>\n",
       "    </tr>\n",
       "    <tr>\n",
       "      <td>588</td>\n",
       "      <td>False</td>\n",
       "      <td>489857.8944</td>\n",
       "      <td>52420</td>\n",
       "      <td>651249.8944</td>\n",
       "    </tr>\n",
       "  </tbody>\n",
       "</table>\n",
       "<p>589 rows × 4 columns</p>\n",
       "</div>"
      ],
      "text/plain": [
       "     GenderTwin    CortexVol  SubCortGrayVol  TotalGrayVol\n",
       "0          True  496324.6342           56100   664132.6342\n",
       "1          True  602906.4394           59727   791680.4394\n",
       "2          True  601946.4372           64860   791047.4372\n",
       "3          True  587914.1354           63776   775976.1354\n",
       "4          True  444856.8913           52870   627151.8913\n",
       "..          ...          ...             ...           ...\n",
       "584       False  374663.9339           59549   546966.9339\n",
       "585       False  441606.3079           54367   617691.3079\n",
       "586       False  423582.3965           55870   607171.3965\n",
       "587       False  480249.5412           52385   641543.5412\n",
       "588       False  489857.8944           52420   651249.8944\n",
       "\n",
       "[589 rows x 4 columns]"
      ]
     },
     "execution_count": 36,
     "metadata": {},
     "output_type": "execute_result"
    }
   ],
   "source": [
    "features = X\n",
    "features\n"
   ]
  },
  {
   "cell_type": "code",
   "execution_count": 37,
   "metadata": {},
   "outputs": [],
   "source": [
    "# Saving feature names for later use\n",
    "feature_list = list(features.columns)\n",
    "# Convert to numpy array\n",
    "features = np.array(features)\n",
    "\n",
    "# Using Skicit-learn to split data into training and testing sets\n"
   ]
  },
  {
   "cell_type": "code",
   "execution_count": 38,
   "metadata": {},
   "outputs": [
    {
     "data": {
      "text/plain": [
       "array([[True, 496324.6342, 56100, 664132.6342],\n",
       "       [True, 602906.4394, 59727, 791680.4394],\n",
       "       [True, 601946.4372, 64860, 791047.4372],\n",
       "       ...,\n",
       "       [False, 423582.3965, 55870, 607171.3965],\n",
       "       [False, 480249.5412, 52385, 641543.5412],\n",
       "       [False, 489857.8944, 52420, 651249.8944]], dtype=object)"
      ]
     },
     "execution_count": 38,
     "metadata": {},
     "output_type": "execute_result"
    }
   ],
   "source": [
    "features"
   ]
  },
  {
   "cell_type": "code",
   "execution_count": 39,
   "metadata": {},
   "outputs": [],
   "source": [
    "from sklearn.model_selection import train_test_split\n",
    "# Split the data into training and testing sets\n",
    "train_features, test_features, train_labels, test_labels = train_test_split(features, labels, test_size = 0.33, random_state = 42)"
   ]
  },
  {
   "cell_type": "code",
   "execution_count": null,
   "metadata": {},
   "outputs": [],
   "source": [
    "# eerst runnen zonder al teveel tuning\n",
    "# Train the model on training data\n",
    "rf.fit(train_features, train_labels)\n",
    "\n",
    "#Use the forest's predict method on the test data\n",
    "predictions = rf.predict(test_features)\n",
    "# Calculate the absolute errors\n",
    "errors = abs(predictions - test_labels)\n",
    "# Print out the mean absolute error (mae)\n",
    "print('Mean Absolute Error:', round(np.mean(errors), 2), 'years')\n",
    "\n",
    "##Dus 1 jaar is ongeveer 1/8.66 * 100 -> gemiddelde fout in procenten als je het gemiddelde neemt (het naieve model)\n",
    "##Dat is beter dan dit model... (oeps / auch)\n",
    "\n",
    "rf.feature_importances_\n",
    "feature_list\n",
    "# Calculate mean absolute percentage error (MAPE)\n",
    "mape = 100 * (errors / test_labels)\n",
    "# Calculate and display accuracy\n",
    "accuracy = 100 - np.mean(mape)\n",
    "print('Accuracy:', round(accuracy, 2), '%.')\n",
    "print(predictions)\n",
    "\n",
    "#labels = y\n",
    "#features = x\n",
    "print(features[:,0].size, labels.size)\n",
    "scatter(features[:,3],labels)"
   ]
  },
  {
   "cell_type": "code",
   "execution_count": 41,
   "metadata": {},
   "outputs": [
    {
     "name": "stdout",
     "output_type": "stream",
     "text": [
      "Parameters currently in use:\n",
      "\n",
      "{'bootstrap': True, 'criterion': 'mse', 'max_depth': None, 'max_features': 'auto', 'max_leaf_nodes': None, 'min_impurity_decrease': 0.0, 'min_impurity_split': None, 'min_samples_leaf': 1, 'min_samples_split': 2, 'min_weight_fraction_leaf': 0.0, 'n_estimators': 1000, 'n_jobs': None, 'oob_score': False, 'random_state': 42, 'verbose': 0, 'warm_start': False}\n"
     ]
    }
   ],
   "source": [
    "from sklearn.ensemble import RandomForestRegressor\n",
    "# Instantiate model with 1000 decision trees\n",
    "rf = RandomForestRegressor(n_estimators = 1000, random_state = 42)\n",
    "\n",
    "# Look at parameters used by our current forest\n",
    "print('Parameters currently in use:\\n')\n",
    "print(rf.get_params())"
   ]
  },
  {
   "cell_type": "markdown",
   "metadata": {},
   "source": [
    "# the most important settings are the number of trees in the forest (n_estimators) and the number of features considered for splitting at each leaf node (max_features)\n",
    "#We will try adjusting the following set of hyperparameters:\n",
    "\n",
    "    n_estimators = number of trees in the foreset\n",
    "    max_features = max number of features considered for splitting a node\n",
    "    max_depth = max number of levels in each decision tree\n",
    "    min_samples_split = min number of data points placed in a node before the node is split\n",
    "    min_samples_leaf = min number of data points allowed in a leaf node\n",
    "    bootstrap = method for sampling data points (with or without replacement)"
   ]
  },
  {
   "cell_type": "code",
   "execution_count": 42,
   "metadata": {},
   "outputs": [],
   "source": [
    "from sklearn.model_selection import RandomizedSearchCV# Number of trees in random forest\n",
    "n_estimators = [int(x) for x in np.linspace(start = 200, stop = 2000, num = 10)]\n",
    "# Number of features to consider at every split\n",
    "max_features = ['auto', 'sqrt']\n",
    "# Maximum number of levels in tree\n",
    "max_depth = [int(x) for x in np.linspace(10, 110, num = 11)]\n",
    "max_depth.append(None)\n",
    "# Minimum number of samples required to split a node\n",
    "min_samples_split = [2, 5, 10]\n",
    "# Minimum number of samples required at each leaf node\n",
    "min_samples_leaf = [1, 2, 4]\n",
    "# Method of selecting samples for training each tree\n",
    "bootstrap = [True, False]"
   ]
  },
  {
   "cell_type": "code",
   "execution_count": 46,
   "metadata": {},
   "outputs": [
    {
     "name": "stdout",
     "output_type": "stream",
     "text": [
      "{'n_estimators': [200, 400, 600, 800, 1000, 1200, 1400, 1600, 1800, 2000], 'max_features': ['auto', 'sqrt'], 'max_depth': [10, 20, 30, 40, 50, 60, 70, 80, 90, 100, 110, None], 'min_samples_split': [2, 5, 10], 'min_samples_leaf': [1, 2, 4], 'bootstrap': [True, False]}\n"
     ]
    }
   ],
   "source": [
    "# Create the random grid\n",
    "random_grid = {'n_estimators': n_estimators,\n",
    "               'max_features': max_features,\n",
    "               'max_depth': max_depth,\n",
    "               'min_samples_split': min_samples_split,\n",
    "               'min_samples_leaf': min_samples_leaf,\n",
    "               'bootstrap': bootstrap}\n",
    "print(random_grid)"
   ]
  },
  {
   "cell_type": "code",
   "execution_count": 99,
   "metadata": {},
   "outputs": [],
   "source": [
    "# Use the random grid to search for best hyperparameters\n",
    "# First create the base model to tune (without any tuning)\n",
    "rf = RandomForestRegressor()\n",
    "# Random search of parameters, using 3 fold cross validation, \n",
    "# search across 100 different combinations, and use all available cores\n",
    "rf_random = RandomizedSearchCV(estimator = rf, param_distributions = random_grid, n_iter = 100, cv = 3, verbose=2, random_state=42, n_jobs = -1)"
   ]
  },
  {
   "cell_type": "code",
   "execution_count": 100,
   "metadata": {},
   "outputs": [
    {
     "name": "stdout",
     "output_type": "stream",
     "text": [
      "Fitting 3 folds for each of 100 candidates, totalling 300 fits\n"
     ]
    },
    {
     "name": "stderr",
     "output_type": "stream",
     "text": [
      "[Parallel(n_jobs=-1)]: Using backend LokyBackend with 8 concurrent workers.\n",
      "[Parallel(n_jobs=-1)]: Done  25 tasks      | elapsed:   13.4s\n",
      "[Parallel(n_jobs=-1)]: Done 146 tasks      | elapsed:  1.0min\n",
      "[Parallel(n_jobs=-1)]: Done 300 out of 300 | elapsed:  2.1min finished\n",
      "C:\\ProgramData\\Anaconda3\\lib\\site-packages\\sklearn\\model_selection\\_search.py:814: DeprecationWarning: The default of the `iid` parameter will change from True to False in version 0.22 and will be removed in 0.24. This will change numeric results when test-set sizes are unequal.\n",
      "  DeprecationWarning)\n"
     ]
    },
    {
     "data": {
      "text/plain": [
       "RandomizedSearchCV(cv=3, error_score='raise-deprecating',\n",
       "                   estimator=RandomForestRegressor(bootstrap=True,\n",
       "                                                   criterion='mse',\n",
       "                                                   max_depth=None,\n",
       "                                                   max_features='auto',\n",
       "                                                   max_leaf_nodes=None,\n",
       "                                                   min_impurity_decrease=0.0,\n",
       "                                                   min_impurity_split=None,\n",
       "                                                   min_samples_leaf=1,\n",
       "                                                   min_samples_split=2,\n",
       "                                                   min_weight_fraction_leaf=0.0,\n",
       "                                                   n_estimators='warn',\n",
       "                                                   n_jobs=None, oob_score=False,\n",
       "                                                   random_sta...\n",
       "                   param_distributions={'bootstrap': [True, False],\n",
       "                                        'max_depth': [10, 20, 30, 40, 50, 60,\n",
       "                                                      70, 80, 90, 100, 110,\n",
       "                                                      None],\n",
       "                                        'max_features': ['auto', 'sqrt'],\n",
       "                                        'min_samples_leaf': [1, 2, 4],\n",
       "                                        'min_samples_split': [2, 5, 10],\n",
       "                                        'n_estimators': [200, 400, 600, 800,\n",
       "                                                         1000, 1200, 1400, 1600,\n",
       "                                                         1800, 2000]},\n",
       "                   pre_dispatch='2*n_jobs', random_state=42, refit=True,\n",
       "                   return_train_score=False, scoring=None, verbose=2)"
      ]
     },
     "execution_count": 100,
     "metadata": {},
     "output_type": "execute_result"
    }
   ],
   "source": [
    "# Fit the random search model\n",
    "rf_random.fit(train_features, train_labels)"
   ]
  },
  {
   "cell_type": "markdown",
   "metadata": {},
   "source": [
    "The most important arguments in RandomizedSearchCV are n_iter, which controls the number of different combinations to try, and cv which is the number of folds to use for cross validation (we use 100 and 3 respectively). More iterations will cover a wider search space and more cv folds reduces the chances of overfitting, but raising each will increase the run time. Machine learning is a field of trade-offs, and performance vs time is one of the most fundamental."
   ]
  },
  {
   "cell_type": "code",
   "execution_count": 104,
   "metadata": {},
   "outputs": [
    {
     "data": {
      "text/plain": [
       "{'n_estimators': 400,\n",
       " 'min_samples_split': 10,\n",
       " 'min_samples_leaf': 4,\n",
       " 'max_features': 'sqrt',\n",
       " 'max_depth': 90,\n",
       " 'bootstrap': True}"
      ]
     },
     "execution_count": 104,
     "metadata": {},
     "output_type": "execute_result"
    }
   ],
   "source": [
    "rf_random.best_params_"
   ]
  },
  {
   "cell_type": "code",
   "execution_count": 54,
   "metadata": {},
   "outputs": [
    {
     "name": "stdout",
     "output_type": "stream",
     "text": [
      "Model Performance\n",
      "Average Error: 1.0620 degrees.\n",
      "Accuracy = 87.26%.\n"
     ]
    }
   ],
   "source": [
    "def evaluate(model, test_features, test_labels):\n",
    "    predictions = model.predict(test_features)\n",
    "    errors = abs(predictions - test_labels)\n",
    "    mape = 100 * np.mean(errors / test_labels)\n",
    "    accuracy = 100 - mape\n",
    "    print('Model Performance')\n",
    "    print('Average Error: {:0.4f} degrees.'.format(np.mean(errors)))\n",
    "    print('Accuracy = {:0.2f}%.'.format(accuracy))\n",
    "    \n",
    "    return accuracy\n",
    "\n",
    "base_model = RandomForestRegressor(n_estimators = 10, random_state = 42)\n",
    "base_model.fit(train_features, train_labels)\n",
    "base_accuracy = evaluate(base_model, test_features, test_labels)"
   ]
  },
  {
   "cell_type": "code",
   "execution_count": 55,
   "metadata": {},
   "outputs": [
    {
     "name": "stdout",
     "output_type": "stream",
     "text": [
      "Model Performance\n",
      "Average Error: 1.0086 degrees.\n",
      "Accuracy = 87.94%.\n"
     ]
    }
   ],
   "source": [
    "best_random = rf_random.best_estimator_\n",
    "random_accuracy = evaluate(best_random, test_features, test_labels)"
   ]
  },
  {
   "cell_type": "code",
   "execution_count": 56,
   "metadata": {},
   "outputs": [
    {
     "name": "stdout",
     "output_type": "stream",
     "text": [
      "Improvement of 0.78%.\n"
     ]
    }
   ],
   "source": [
    "print('Improvement of {:0.2f}%.'.format( 100 * (random_accuracy - base_accuracy) / base_accuracy))"
   ]
  },
  {
   "cell_type": "markdown",
   "metadata": {},
   "source": [
    "Grid Search with Cross Validation\n",
    "\n",
    "Random search allowed us to narrow down the range for each hyperparameter. Now that we know where to concentrate our search, we can explicitly specify every combination of settings to try. We do this with GridSearchCV, a method that, instead of sampling randomly from a distribution, evaluates all combinations we define. To use Grid Search, we make another grid based on the best values provided by random search:"
   ]
  },
  {
   "cell_type": "code",
   "execution_count": 63,
   "metadata": {},
   "outputs": [],
   "source": [
    "from sklearn.model_selection import GridSearchCV # Create the parameter grid based on the results of random search \n",
    "param_grid = {\n",
    "    'bootstrap': [True],\n",
    "    'max_depth': [80, 90, 100, 110],\n",
    "    'max_features': [2, 3],\n",
    "    'min_samples_leaf': [3, 4, 5],\n",
    "    'min_samples_split': [8, 10, 12],\n",
    "    'n_estimators': [100, 200, 300, 1000]}\n",
    "\n",
    "# Create a based model\n",
    "rf = RandomForestRegressor()# Instantiate the grid search model\n",
    "grid_search = GridSearchCV(estimator = rf, param_grid = param_grid, \n",
    "                          cv = 3, n_jobs = -1, verbose = 2)"
   ]
  },
  {
   "cell_type": "markdown",
   "metadata": {},
   "source": [
    "This will try out 1 * 4 * 2 * 3 * 3 * 4 = 288 combinations of settings. We can fit the model, display the best hyperparameters, and evaluate performance:"
   ]
  },
  {
   "cell_type": "code",
   "execution_count": 64,
   "metadata": {},
   "outputs": [
    {
     "name": "stdout",
     "output_type": "stream",
     "text": [
      "Fitting 3 folds for each of 288 candidates, totalling 864 fits\n"
     ]
    },
    {
     "name": "stderr",
     "output_type": "stream",
     "text": [
      "[Parallel(n_jobs=-1)]: Using backend LokyBackend with 8 concurrent workers.\n",
      "[Parallel(n_jobs=-1)]: Done  25 tasks      | elapsed:    5.4s\n",
      "[Parallel(n_jobs=-1)]: Done 146 tasks      | elapsed:   20.5s\n",
      "[Parallel(n_jobs=-1)]: Done 349 tasks      | elapsed:   46.5s\n",
      "[Parallel(n_jobs=-1)]: Done 632 tasks      | elapsed:  1.4min\n",
      "[Parallel(n_jobs=-1)]: Done 864 out of 864 | elapsed:  1.9min finished\n",
      "C:\\ProgramData\\Anaconda3\\lib\\site-packages\\sklearn\\model_selection\\_search.py:814: DeprecationWarning: The default of the `iid` parameter will change from True to False in version 0.22 and will be removed in 0.24. This will change numeric results when test-set sizes are unequal.\n",
      "  DeprecationWarning)\n"
     ]
    },
    {
     "data": {
      "text/plain": [
       "GridSearchCV(cv=3, error_score='raise-deprecating',\n",
       "             estimator=RandomForestRegressor(bootstrap=True, criterion='mse',\n",
       "                                             max_depth=None,\n",
       "                                             max_features='auto',\n",
       "                                             max_leaf_nodes=None,\n",
       "                                             min_impurity_decrease=0.0,\n",
       "                                             min_impurity_split=None,\n",
       "                                             min_samples_leaf=1,\n",
       "                                             min_samples_split=2,\n",
       "                                             min_weight_fraction_leaf=0.0,\n",
       "                                             n_estimators='warn', n_jobs=None,\n",
       "                                             oob_score=False, random_state=None,\n",
       "                                             verbose=0, warm_start=False),\n",
       "             iid='warn', n_jobs=-1,\n",
       "             param_grid={'bootstrap': [True], 'max_depth': [80, 90, 100, 110],\n",
       "                         'max_features': [2, 3], 'min_samples_leaf': [3, 4, 5],\n",
       "                         'min_samples_split': [8, 10, 12],\n",
       "                         'n_estimators': [100, 200, 300, 1000]},\n",
       "             pre_dispatch='2*n_jobs', refit=True, return_train_score=False,\n",
       "             scoring=None, verbose=2)"
      ]
     },
     "execution_count": 64,
     "metadata": {},
     "output_type": "execute_result"
    }
   ],
   "source": [
    "# Fit the grid search to the data\n",
    "grid_search.fit(train_features, train_labels)\n"
   ]
  },
  {
   "cell_type": "code",
   "execution_count": 66,
   "metadata": {},
   "outputs": [
    {
     "data": {
      "text/plain": [
       "{'bootstrap': True,\n",
       " 'max_depth': 100,\n",
       " 'max_features': 2,\n",
       " 'min_samples_leaf': 5,\n",
       " 'min_samples_split': 12,\n",
       " 'n_estimators': 200}"
      ]
     },
     "execution_count": 66,
     "metadata": {},
     "output_type": "execute_result"
    }
   ],
   "source": [
    "grid_search.best_params_"
   ]
  },
  {
   "cell_type": "code",
   "execution_count": 70,
   "metadata": {},
   "outputs": [
    {
     "name": "stdout",
     "output_type": "stream",
     "text": [
      "Model Performance\n",
      "Average Error: 1.0043 degrees.\n",
      "Accuracy = 88.00%.\n"
     ]
    }
   ],
   "source": [
    "best_grid = grid_search.best_estimator_\n",
    "grid_accuracy = evaluate(best_grid, test_features, test_labels)"
   ]
  },
  {
   "cell_type": "code",
   "execution_count": 68,
   "metadata": {},
   "outputs": [
    {
     "name": "stdout",
     "output_type": "stream",
     "text": [
      "Improvement of 0.85%.\n"
     ]
    }
   ],
   "source": [
    "print('Improvement of {:0.2f}%.'.format( 100 * (grid_accuracy - base_accuracy) / base_accuracy))"
   ]
  },
  {
   "cell_type": "markdown",
   "metadata": {},
   "source": [
    "It seems we have about maxed out performance, but we can give it one more try with a grid further refined from our previous results. The code is the same as before just with a different grid so I only present the results:"
   ]
  },
  {
   "cell_type": "code",
   "execution_count": 71,
   "metadata": {},
   "outputs": [
    {
     "name": "stdout",
     "output_type": "stream",
     "text": [
      "Fitting 3 folds for each of 54 candidates, totalling 162 fits\n"
     ]
    },
    {
     "name": "stderr",
     "output_type": "stream",
     "text": [
      "[Parallel(n_jobs=-1)]: Using backend LokyBackend with 8 concurrent workers.\n",
      "[Parallel(n_jobs=-1)]: Done  25 tasks      | elapsed:    6.7s\n",
      "[Parallel(n_jobs=-1)]: Done 146 tasks      | elapsed:   10.9s\n",
      "[Parallel(n_jobs=-1)]: Done 162 out of 162 | elapsed:   11.4s finished\n",
      "C:\\ProgramData\\Anaconda3\\lib\\site-packages\\sklearn\\model_selection\\_search.py:814: DeprecationWarning: The default of the `iid` parameter will change from True to False in version 0.22 and will be removed in 0.24. This will change numeric results when test-set sizes are unequal.\n",
      "  DeprecationWarning)\n"
     ]
    }
   ],
   "source": [
    "param_grid = {\n",
    "    'bootstrap': [True],\n",
    "    'max_depth': [110, 120, None],\n",
    "    'max_features': [3, 4],\n",
    "    'min_samples_leaf': [5, 6, 7],\n",
    "    'min_samples_split': [10],\n",
    "    'n_estimators': [75, 100, 125]\n",
    "}\n",
    "\n",
    "# Create a base model\n",
    "rf = RandomForestRegressor(random_state = 42)\n",
    "\n",
    "# Instantiate the grid search model\n",
    "grid_search_final = GridSearchCV(estimator = rf, param_grid = param_grid, \n",
    "                                 cv = 3, n_jobs = -1, verbose = 2, return_train_score=True)\n",
    "\n",
    "grid_search_final.fit(train_features, train_labels);"
   ]
  },
  {
   "cell_type": "code",
   "execution_count": 72,
   "metadata": {},
   "outputs": [
    {
     "data": {
      "text/plain": [
       "{'bootstrap': True,\n",
       " 'max_depth': 110,\n",
       " 'max_features': 3,\n",
       " 'min_samples_leaf': 7,\n",
       " 'min_samples_split': 10,\n",
       " 'n_estimators': 125}"
      ]
     },
     "execution_count": 72,
     "metadata": {},
     "output_type": "execute_result"
    }
   ],
   "source": [
    "grid_search_final.best_params_"
   ]
  },
  {
   "cell_type": "code",
   "execution_count": 73,
   "metadata": {},
   "outputs": [
    {
     "name": "stdout",
     "output_type": "stream",
     "text": [
      "Model Performance\n",
      "Average Error: 0.9968 degrees.\n",
      "Accuracy = 88.06%.\n"
     ]
    }
   ],
   "source": [
    "best_grid_final = grid_search_final.best_estimator_\n",
    "grid_final_accuracy = evaluate(best_grid_final, test_features, test_labels)"
   ]
  },
  {
   "cell_type": "code",
   "execution_count": 74,
   "metadata": {},
   "outputs": [
    {
     "name": "stdout",
     "output_type": "stream",
     "text": [
      "Improvement of 0.92%.\n"
     ]
    }
   ],
   "source": [
    "print('Improvement of {:0.2f}%.'.format( 100 * (grid_final_accuracy - base_accuracy) / base_accuracy))"
   ]
  },
  {
   "cell_type": "markdown",
   "metadata": {},
   "source": [
    "\n",
    "\n",
    "A very slight improvement in accuracy means we have reached the point of diminishing returns from tuning. We will stop here and use this as our final model.\n",
    "Final Model\n",
    "\n",
    "The final model from hyperparameter tuning is as follows.\n"
   ]
  },
  {
   "cell_type": "code",
   "execution_count": 77,
   "metadata": {},
   "outputs": [
    {
     "name": "stdout",
     "output_type": "stream",
     "text": [
      "Final Model Parameters:\n",
      "\n",
      "{'bootstrap': True, 'criterion': 'mse', 'max_depth': 100, 'max_features': 2, 'max_leaf_nodes': None, 'min_impurity_decrease': 0.0, 'min_impurity_split': None, 'min_samples_leaf': 5, 'min_samples_split': 12, 'min_weight_fraction_leaf': 0.0, 'n_estimators': 200, 'n_jobs': None, 'oob_score': False, 'random_state': None, 'verbose': 0, 'warm_start': False}\n",
      "\n",
      "\n",
      "Model Performance\n",
      "Average Error: 1.0043 degrees.\n",
      "Accuracy = 88.00%.\n"
     ]
    }
   ],
   "source": [
    "final_model = grid_search.best_estimator_\n",
    "\n",
    "print('Final Model Parameters:\\n')\n",
    "print(final_model.get_params())\n",
    "print('\\n')\n",
    "grid_final_accuracy = evaluate(final_model, test_features, test_labels)"
   ]
  },
  {
   "cell_type": "markdown",
   "metadata": {},
   "source": [
    "\n",
    "Comparison of All Improvement Techniques\n",
    "\n",
    "Finally, we can make comparisons between the improvement techniques to determine which ones were most effective.\n"
   ]
  },
  {
   "cell_type": "code",
   "execution_count": null,
   "metadata": {},
   "outputs": [],
   "source": [
    "#skipped part https://github.com/WillKoehrsen/Machine-Learning-Projects/blob/master/random_forest_explained/Improving%20Random%20Forest%20Part%202.ipynb"
   ]
  },
  {
   "cell_type": "code",
   "execution_count": null,
   "metadata": {},
   "outputs": [],
   "source": [
    "#random search best model"
   ]
  },
  {
   "cell_type": "code",
   "execution_count": 82,
   "metadata": {},
   "outputs": [],
   "source": [
    "random_results = evaluate_model(best_random, train_features, train_labels, test_features, test_labels)"
   ]
  },
  {
   "cell_type": "code",
   "execution_count": 83,
   "metadata": {},
   "outputs": [],
   "source": [
    "random_results['model'] = 'best_random'"
   ]
  },
  {
   "cell_type": "code",
   "execution_count": 84,
   "metadata": {},
   "outputs": [
    {
     "data": {
      "text/plain": [
       "{'time': 1.344546365737915,\n",
       " 'error': 1.0077529652013404,\n",
       " 'accuracy': 87.94906851485644,\n",
       " 'n_trees': 800,\n",
       " 'n_features': 4,\n",
       " 'model': 'best_random'}"
      ]
     },
     "execution_count": 84,
     "metadata": {},
     "output_type": "execute_result"
    }
   ],
   "source": [
    "random_results"
   ]
  },
  {
   "cell_type": "code",
   "execution_count": null,
   "metadata": {},
   "outputs": [],
   "source": [
    "# first grid search best model"
   ]
  },
  {
   "cell_type": "code",
   "execution_count": 85,
   "metadata": {},
   "outputs": [],
   "source": [
    "first_grid_results = evaluate_model(best_grid, train_features, train_labels, test_features, test_labels)\n",
    "first_grid_results['model'] = 'first_grid'"
   ]
  },
  {
   "cell_type": "code",
   "execution_count": 86,
   "metadata": {},
   "outputs": [
    {
     "data": {
      "text/plain": [
       "{'time': 0.31839690208435056,\n",
       " 'error': 1.0044193792805793,\n",
       " 'accuracy': 87.97986943055234,\n",
       " 'n_trees': 200,\n",
       " 'n_features': 4,\n",
       " 'model': 'first_grid'}"
      ]
     },
     "execution_count": 86,
     "metadata": {},
     "output_type": "execute_result"
    }
   ],
   "source": [
    "first_grid_results"
   ]
  },
  {
   "cell_type": "code",
   "execution_count": null,
   "metadata": {},
   "outputs": [],
   "source": [
    "#second grid search best model"
   ]
  },
  {
   "cell_type": "code",
   "execution_count": 87,
   "metadata": {},
   "outputs": [],
   "source": [
    "final_model_results = evaluate_model(best_grid_final, train_features, train_labels, test_features, test_labels)\n",
    "final_model_results['model'] = 'second_grid'"
   ]
  },
  {
   "cell_type": "code",
   "execution_count": 88,
   "metadata": {},
   "outputs": [
    {
     "data": {
      "text/plain": [
       "{'time': 0.23462305068969727,\n",
       " 'error': 0.9967920997687304,\n",
       " 'accuracy': 88.06188673429997,\n",
       " 'n_trees': 125,\n",
       " 'n_features': 4,\n",
       " 'model': 'second_grid'}"
      ]
     },
     "execution_count": 88,
     "metadata": {},
     "output_type": "execute_result"
    }
   ],
   "source": [
    "final_model_results"
   ]
  },
  {
   "cell_type": "code",
   "execution_count": null,
   "metadata": {},
   "outputs": [],
   "source": [
    "#waarschijnlijk nog baseline model doen? zoals we eerder hadden gedaan, zie onder\n",
    "full_features = pd.read_csv('data/temps_extended.csv')\n",
    "full_features = full_features.rename(columns = {'weekday': 'week'})\n",
    "full_features = pd.get_dummies(full_features)\n",
    "\n",
    "full_labels = full_features['actual']\n",
    "full_features = full_features.drop('actual', axis = 1)\n",
    "\n",
    "full_feature_list = list(full_features.columns)\n",
    "important_feature_names = ['temp_1', 'average', 'ws_1', 'temp_2', 'friend', 'year']\n",
    "\n",
    "full_features_train, full_features_test, full_labels_train, full_labels_test = train_test_split(full_features, full_labels, \n",
    "                                                                                                test_size = 0.25, random_state = 42)\n",
    "\n",
    "baseline_preds = full_features_test['average']\n",
    "baseline_errors = abs(baseline_preds - full_labels_test)\n",
    "baseline_mean_error = np.mean(baseline_errors)\n",
    "baseline_accuracy = 100 - (100 * np.mean(baseline_errors / full_labels_test))"
   ]
  },
  {
   "cell_type": "code",
   "execution_count": null,
   "metadata": {},
   "outputs": [],
   "source": [
    "baseline_results = {'model': 'average', 'time': np.nan, 'n_trees': np.nan, 'error': baseline_mean_error, 'accuracy': baseline_accuracy, 'n_features': 1}"
   ]
  },
  {
   "cell_type": "markdown",
   "metadata": {},
   "source": [
    "Comparison of all models (baseline doet even niet mee)"
   ]
  },
  {
   "cell_type": "code",
   "execution_count": 89,
   "metadata": {},
   "outputs": [],
   "source": [
    "comparison = {'model': [random_results['model'], first_grid_results['model']],\n",
    "              'accuracy': [round(random_results['accuracy'], 3), round(first_grid_results['accuracy'], 3)],\n",
    "              'error': [round(random_results['error'], 3), round(first_grid_results['error'], 3)],\n",
    "              'n_features': [random_results['n_features'], first_grid_results['n_features']],\n",
    "              'n_trees': [random_results['n_trees'], int(first_grid_results['n_trees'])],\n",
    "              'time': [round(random_results['time'], 4), round(first_grid_results['time'], 4)]}\n",
    "                        \n",
    "for model in [final_model_results]:\n",
    "    comparison['accuracy'].append(round(model['accuracy'], 3))\n",
    "    comparison['error'].append(round(model['error'], 3))\n",
    "    comparison['model'].append(model['model'])\n",
    "    comparison['n_features'].append(model['n_features'])\n",
    "    comparison['n_trees'].append(int(model['n_trees']))\n",
    "    comparison['time'].append(round(model['time'], 4))"
   ]
  },
  {
   "cell_type": "code",
   "execution_count": 90,
   "metadata": {},
   "outputs": [],
   "source": [
    "comparison = pd.DataFrame.from_dict(comparison, orient = 'columns')"
   ]
  },
  {
   "cell_type": "code",
   "execution_count": 91,
   "metadata": {},
   "outputs": [
    {
     "data": {
      "text/html": [
       "<div>\n",
       "<style scoped>\n",
       "    .dataframe tbody tr th:only-of-type {\n",
       "        vertical-align: middle;\n",
       "    }\n",
       "\n",
       "    .dataframe tbody tr th {\n",
       "        vertical-align: top;\n",
       "    }\n",
       "\n",
       "    .dataframe thead th {\n",
       "        text-align: right;\n",
       "    }\n",
       "</style>\n",
       "<table border=\"1\" class=\"dataframe\">\n",
       "  <thead>\n",
       "    <tr style=\"text-align: right;\">\n",
       "      <th></th>\n",
       "      <th>model</th>\n",
       "      <th>accuracy</th>\n",
       "      <th>error</th>\n",
       "      <th>n_features</th>\n",
       "      <th>n_trees</th>\n",
       "      <th>time</th>\n",
       "    </tr>\n",
       "  </thead>\n",
       "  <tbody>\n",
       "    <tr>\n",
       "      <td>0</td>\n",
       "      <td>best_random</td>\n",
       "      <td>87.949</td>\n",
       "      <td>1.008</td>\n",
       "      <td>4</td>\n",
       "      <td>800</td>\n",
       "      <td>1.3445</td>\n",
       "    </tr>\n",
       "    <tr>\n",
       "      <td>1</td>\n",
       "      <td>first_grid</td>\n",
       "      <td>87.980</td>\n",
       "      <td>1.004</td>\n",
       "      <td>4</td>\n",
       "      <td>200</td>\n",
       "      <td>0.3184</td>\n",
       "    </tr>\n",
       "    <tr>\n",
       "      <td>2</td>\n",
       "      <td>second_grid</td>\n",
       "      <td>88.062</td>\n",
       "      <td>0.997</td>\n",
       "      <td>4</td>\n",
       "      <td>125</td>\n",
       "      <td>0.2346</td>\n",
       "    </tr>\n",
       "  </tbody>\n",
       "</table>\n",
       "</div>"
      ],
      "text/plain": [
       "         model  accuracy  error  n_features  n_trees    time\n",
       "0  best_random    87.949  1.008           4      800  1.3445\n",
       "1   first_grid    87.980  1.004           4      200  0.3184\n",
       "2  second_grid    88.062  0.997           4      125  0.2346"
      ]
     },
     "execution_count": 91,
     "metadata": {},
     "output_type": "execute_result"
    }
   ],
   "source": [
    "comparison[['model', 'accuracy', 'error', 'n_features', 'n_trees', 'time']]"
   ]
  },
  {
   "cell_type": "code",
   "execution_count": 93,
   "metadata": {},
   "outputs": [],
   "source": [
    "#werkt nog niet op deze data\n",
    "#print('Adding Data and Feature Selection error reduction: {:0.2f}%'.format(100 * (baseline_results['error'] - four_years_important_results['error']) / baseline_results['error'])) \n",
    "#print('Hyperparameter Tuning Error Reduction: {:0.2f}%'.format(100 * (four_years_important_results['error'] - first_grid_results['error']) / four_years_important_results['error']))"
   ]
  },
  {
   "cell_type": "code",
   "execution_count": 94,
   "metadata": {},
   "outputs": [],
   "source": [
    "import matplotlib.pyplot as plt\n",
    "import seaborn as sns\n",
    "%matplotlib inline\n",
    "\n",
    "plt.style.use('fivethirtyeight')"
   ]
  },
  {
   "cell_type": "code",
   "execution_count": 98,
   "metadata": {},
   "outputs": [
    {
     "data": {
      "image/png": "[encoded data removed]",
      "text/plain": [
       "<Figure size 720x432 with 2 Axes>"
      ]
     },
     "metadata": {},
     "output_type": "display_data"
    }
   ],
   "source": [
    "xvalues = list(range(len(comparison)))\n",
    "plt.subplots(1, 2, figsize=(10, 6))\n",
    "plt.subplot(121)\n",
    "plt.bar(xvalues, comparison['accuracy'], color = 'g', edgecolor = 'k', linewidth = 1.8)\n",
    "plt.xticks(xvalues, comparison['model'], rotation = 45, fontsize = 12)\n",
    "plt.ylim(ymin = 85, ymax = 90)\n",
    "plt.xlabel('model'); plt.ylabel('Accuracy (%)'); plt.title('Accuracy Comparison');\n",
    "\n",
    "plt.subplot(122)\n",
    "plt.bar(xvalues, comparison['error'], color = 'r', edgecolor = 'k', linewidth = 1.8)\n",
    "plt.xticks(xvalues, comparison['model'], rotation = 45)\n",
    "plt.ylim(ymin = 0.5, ymax = 1.2)\n",
    "plt.xlabel('model'); plt.ylabel('Error (deg)'); plt.title('Error Comparison');\n",
    "plt.show();"
   ]
  },
  {
   "cell_type": "code",
   "execution_count": null,
   "metadata": {},
   "outputs": [],
   "source": []
  },
  {
   "cell_type": "code",
   "execution_count": null,
   "metadata": {},
   "outputs": [],
   "source": []
  },
  {
   "cell_type": "code",
   "execution_count": null,
   "metadata": {},
   "outputs": [],
   "source": []
  },
  {
   "cell_type": "code",
   "execution_count": null,
   "metadata": {},
   "outputs": [],
   "source": []
  },
  {
   "cell_type": "code",
   "execution_count": null,
   "metadata": {},
   "outputs": [],
   "source": []
  },
  {
   "cell_type": "code",
   "execution_count": null,
   "metadata": {},
   "outputs": [],
   "source": []
  },
  {
   "cell_type": "code",
   "execution_count": null,
   "metadata": {},
   "outputs": [],
   "source": []
  },
  {
   "cell_type": "code",
   "execution_count": null,
   "metadata": {},
   "outputs": [],
   "source": []
  },
  {
   "cell_type": "code",
   "execution_count": null,
   "metadata": {},
   "outputs": [],
   "source": []
  },
  {
   "cell_type": "code",
   "execution_count": null,
   "metadata": {},
   "outputs": [],
   "source": [
    "#VISUALISEREN"
   ]
  },
  {
   "cell_type": "code",
   "execution_count": null,
   "metadata": {},
   "outputs": [],
   "source": [
    "import sys\n",
    "!conda install  graphviz\n"
   ]
  },
  {
   "cell_type": "code",
   "execution_count": null,
   "metadata": {},
   "outputs": [],
   "source": [
    "import graphviz"
   ]
  },
  {
   "cell_type": "code",
   "execution_count": null,
   "metadata": {},
   "outputs": [],
   "source": [
    "#pip install pydot\n",
    "#import pydot\n",
    "\n",
    "import sys\n",
    "!conda install --yes --prefix {sys.prefix} pydot\n",
    "#sys.prefix\n",
    "#!conda install --yes --prefix\n",
    "\n"
   ]
  },
  {
   "cell_type": "code",
   "execution_count": null,
   "metadata": {},
   "outputs": [],
   "source": [
    "\n",
    "from sklearn.tree import export_graphviz"
   ]
  },
  {
   "cell_type": "code",
   "execution_count": null,
   "metadata": {},
   "outputs": [],
   "source": [
    "\n",
    "# Import tools needed for visualization\n",
    "\n",
    "from sklearn.tree import export_graphviz\n",
    "import pydot\n",
    "# Pull out one tree from the forest\n",
    "tree = rf.estimators_[5]\n",
    "# Export the image to a dot file\n",
    "export_graphviz(tree, out_file = 'tree.dot', feature_names = feature_list, rounded = True, precision = 1)\n",
    "# Use dot file to create a graph\n",
    "(graph, ) = pydot.graph_from_dot_file('tree.dot')\n",
    "# Write graph to a png file\n",
    "graph.write_png('tree.png')"
   ]
  },
  {
   "cell_type": "code",
   "execution_count": null,
   "metadata": {},
   "outputs": [],
   "source": [
    "#rf_small = RandomForestRegressor(n_estimators=10, max_depth = 3)\n",
    "#rf_small.fit(train_features, train_labels)\n",
    "# Extract the small tree\n",
    "#tree_small = rf_small.estimators_[5]\n",
    "# Save the tree as a png image\n",
    "#export_graphviz(tree_small, out_file = 'small_tree.dot', feature_names = feature_list, rounded = True, precision = 1)\n",
    "#(graph, ) = pydot.graph_from_dot_file('small_tree.dot')\n",
    "#graph.write_png('small_tree.png');"
   ]
  },
  {
   "cell_type": "code",
   "execution_count": null,
   "metadata": {},
   "outputs": [],
   "source": [
    "#Get numerical feature importances\n",
    "importances = list(rf.feature_importances_)\n",
    "# List of tuples with variable and importance\n",
    "feature_importances = [(feature, round(importance, 2)) for feature, importance in zip(feature_list, importances)]\n",
    "# Sort the feature importances by most important first\n",
    "feature_importances = sorted(feature_importances, key = lambda x: x[1], reverse = True)\n",
    "# Print out the feature and importances \n",
    "[print('Variable: {:20} Importance: {}'.format(*pair)) for pair in feature_importances];"
   ]
  },
  {
   "cell_type": "code",
   "execution_count": null,
   "metadata": {},
   "outputs": [],
   "source": [
    "import matplotlib.pyplot as plt\n",
    "%matplotlib inline\n",
    "# Set the style\n",
    "plt.style.use('fivethirtyeight')\n",
    "# list of x locations for plotting\n",
    "x_values = list(range(len(importances)))\n",
    "# Make a bar chart\n",
    "plt.bar(x_values, importances, orientation = 'vertical')\n",
    "# Tick labels for x axis\n",
    "plt.xticks(x_values, feature_list, rotation='vertical')\n",
    "# Axis labels and title\n",
    "plt.ylabel('Importance'); plt.xlabel('Variable'); plt.title('Variable Importances');"
   ]
  },
  {
   "cell_type": "code",
   "execution_count": null,
   "metadata": {},
   "outputs": [],
   "source": []
  },
  {
   "cell_type": "code",
   "execution_count": null,
   "metadata": {},
   "outputs": [],
   "source": []
  },
  {
   "cell_type": "code",
   "execution_count": null,
   "metadata": {},
   "outputs": [],
   "source": []
  },
  {
   "cell_type": "code",
   "execution_count": null,
   "metadata": {},
   "outputs": [],
   "source": []
  },
  {
   "cell_type": "code",
   "execution_count": null,
   "metadata": {},
   "outputs": [],
   "source": [
    "#Nu met tuning proberen\n"
   ]
  },
  {
   "cell_type": "code",
   "execution_count": null,
   "metadata": {},
   "outputs": [],
   "source": [
    "from sklearn.model_selection import train_test_split\n",
    "# Split the data into training and testing sets\n",
    "train_features, test_features, train_labels, test_labels = train_test_split(features, labels, test_size = 0.33, random_state = 42)\n"
   ]
  },
  {
   "cell_type": "code",
   "execution_count": null,
   "metadata": {},
   "outputs": [],
   "source": [
    "\n",
    "from sklearn.ensemble import RandomForestRegressor\n",
    "# Instantiate model with 1000 decision trees\n",
    "rf = RandomForestRegressor(n_estimators = 1000, random_state = 42)\n",
    "# Look at parameters used by our current forest\n",
    "print('Parameters currently in use:\\n')\n",
    "print(rf.get_params())\n",
    "\n",
    "\n",
    "\n"
   ]
  },
  {
   "cell_type": "code",
   "execution_count": null,
   "metadata": {},
   "outputs": [],
   "source": [
    "# Train the model on training data\n",
    "rf.fit(train_features, train_labels)"
   ]
  },
  {
   "cell_type": "code",
   "execution_count": null,
   "metadata": {},
   "outputs": [],
   "source": []
  },
  {
   "cell_type": "code",
   "execution_count": null,
   "metadata": {},
   "outputs": [],
   "source": [
    "#Use the forest's predict method on the test data\n",
    "predictions = rf.predict(test_features)\n",
    "# Calculate the absolute errors\n",
    "errors = abs(predictions - test_labels)\n",
    "# Print out the mean absolute error (mae)\n",
    "print('Mean Absolute Error:', round(np.mean(errors), 2), 'years')\n",
    "\n",
    "##Dus 1 jaar is ongeveer 1/8.66 * 100 -> gemiddelde fout in procenten als je het gemiddelde neemt (het naieve model)\n",
    "##Dat is beter dan dit model... (oeps / auch)"
   ]
  }
 ],
 "metadata": {
  "kernelspec": {
   "display_name": "Python 3",
   "language": "python",
   "name": "python3"
  },
  "language_info": {
   "codemirror_mode": {
    "name": "ipython",
    "version": 3
   },
   "file_extension": ".py",
   "mimetype": "text/x-python",
   "name": "python",
   "nbconvert_exporter": "python",
   "pygments_lexer": "ipython3",
   "version": "3.7.4"
  }
 },
 "nbformat": 4,
 "nbformat_minor": 4
}
